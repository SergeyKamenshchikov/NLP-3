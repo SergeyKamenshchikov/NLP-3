{
 "cells": [
  {
   "cell_type": "code",
   "execution_count": 3,
   "metadata": {},
   "outputs": [],
   "source": [
    "import pandas as pd\n",
    "import numpy as np\n",
    "import math\n",
    "import re\n",
    "from tqdm import tqdm_notebook as tqdm\n",
    "from nltk.metrics.distance import jaro_winkler_similarity\n",
    "from nltk.metrics.distance import jaccard_distance\n",
    "from statsmodels.stats.power import TTestIndPower"
   ]
  },
  {
   "cell_type": "markdown",
   "metadata": {},
   "source": [
    "Hyperparameters:"
   ]
  },
  {
   "cell_type": "code",
   "execution_count": 4,
   "metadata": {},
   "outputs": [],
   "source": [
    "threshold_min = 0.5  # fuzzy search cutoff\n",
    "sample_size = 100  # sample volume in %"
   ]
  },
  {
   "cell_type": "markdown",
   "metadata": {},
   "source": [
    "Power analysis parameters:"
   ]
  },
  {
   "cell_type": "code",
   "execution_count": 5,
   "metadata": {},
   "outputs": [],
   "source": [
    "effect = 0.9\n",
    "confidence = 0.9\n",
    "stat_power = 0.9"
   ]
  },
  {
   "cell_type": "markdown",
   "metadata": {},
   "source": [
    "Fuzzy match method:"
   ]
  },
  {
   "cell_type": "code",
   "execution_count": 6,
   "metadata": {},
   "outputs": [],
   "source": [
    "def match(pattern, options):\n",
    "\n",
    "    best_match = None\n",
    "    min_score = threshold_min\n",
    "\n",
    "    for item in options:\n",
    "\n",
    "        (p_set, i_set) = (set(pattern.split()), set(item.split()))\n",
    "        (p_list, i_list) = (list(pattern.split()), list(item.split()))\n",
    "        max_length = min(len(p_list), len(i_list))\n",
    "\n",
    "        jw_metric = jaro_winkler_similarity(p_list, i_list, p=(1/max_length), max_l=max_length)\n",
    "        jc_metric = (1-jaccard_distance(p_set, i_set))\n",
    "        av_metric = 0.5*(jw_metric + jc_metric)\n",
    "\n",
    "        if av_metric > min_score:\n",
    "            min_score = av_metric\n",
    "            best_match = item\n",
    "\n",
    "    return [best_match, min_score]"
   ]
  },
  {
   "cell_type": "markdown",
   "metadata": {},
   "source": [
    "Custom functions:"
   ]
  },
  {
   "cell_type": "code",
   "execution_count": 7,
   "metadata": {},
   "outputs": [],
   "source": [
    "def fill_series(S, E):\n",
    "    S = S.append(pd.Series(E), ignore_index=True)\n",
    "    return S"
   ]
  },
  {
   "cell_type": "markdown",
   "metadata": {},
   "source": [
    "Read device directory in df_devices:"
   ]
  },
  {
   "cell_type": "code",
   "execution_count": 8,
   "metadata": {},
   "outputs": [],
   "source": [
    "df_dev = pd.read_csv('data/devices_clean.csv')\n",
    "df_dev = df_dev.astype({'ven_d': 'str', 'model_d': 'str', 'tac_d': 'str'})"
   ]
  },
  {
   "cell_type": "markdown",
   "metadata": {},
   "source": [
    "Read market catalog:"
   ]
  },
  {
   "cell_type": "code",
   "execution_count": 9,
   "metadata": {
    "scrolled": true
   },
   "outputs": [],
   "source": [
    "df_market = pd.read_csv('data/market_clean.csv')[['ven_m', 'class_m', 'model_m']]\n",
    "df_market = df_market.astype({'ven_m': 'str', 'model_m': 'str', 'class_m': 'str'})"
   ]
  },
  {
   "cell_type": "markdown",
   "metadata": {},
   "source": [
    "Imbalance between samples:"
   ]
  },
  {
   "cell_type": "code",
   "execution_count": 10,
   "metadata": {},
   "outputs": [
    {
     "data": {
      "text/plain": [
       "'Pattern sample > = Basic sample'"
      ]
     },
     "execution_count": 10,
     "metadata": {},
     "output_type": "execute_result"
    }
   ],
   "source": [
    "str('Pattern sample > = Basic sample') if len(df_market) > len(df_dev) else 'Pattern sample < Basic sample'"
   ]
  },
  {
   "cell_type": "markdown",
   "metadata": {},
   "source": [
    "Relative base sample size:"
   ]
  },
  {
   "cell_type": "code",
   "execution_count": 11,
   "metadata": {},
   "outputs": [
    {
     "name": "stdout",
     "output_type": "stream",
     "text": [
      "Relative base sample size: 27%\n"
     ]
    }
   ],
   "source": [
    "ratio = int(100*round(len(df_dev)/len(df_market), 2))\n",
    "print('Relative base sample size: {}%'.format(ratio))"
   ]
  },
  {
   "cell_type": "markdown",
   "metadata": {},
   "source": [
    "Series for recognized model, tac numbers and affinity metrics:"
   ]
  },
  {
   "cell_type": "code",
   "execution_count": 12,
   "metadata": {},
   "outputs": [],
   "source": [
    "match_series, tac_series, score_series = (pd.Series(), pd.Series(), pd.Series())"
   ]
  },
  {
   "cell_type": "markdown",
   "metadata": {},
   "source": [
    "Shuffle the entries randomly:"
   ]
  },
  {
   "cell_type": "code",
   "execution_count": 13,
   "metadata": {},
   "outputs": [],
   "source": [
    "df_market = df_market.sample(frac=1).reset_index(drop=True)"
   ]
  },
  {
   "cell_type": "markdown",
   "metadata": {},
   "source": [
    "Define the sample size:"
   ]
  },
  {
   "cell_type": "code",
   "execution_count": 14,
   "metadata": {},
   "outputs": [],
   "source": [
    "n_sample = round((sample_size/100)*len(df_market['model_m']))"
   ]
  },
  {
   "cell_type": "markdown",
   "metadata": {},
   "source": [
    "Matching and filling match_series, tac_series, score_series:"
   ]
  },
  {
   "cell_type": "code",
   "execution_count": 15,
   "metadata": {
    "scrolled": true
   },
   "outputs": [
    {
     "data": {
      "application/vnd.jupyter.widget-view+json": {
       "model_id": "4561c0d311d7412ea1795ff1d4545e8a",
       "version_major": 2,
       "version_minor": 0
      },
      "text/plain": [
       "HBox(children=(IntProgress(value=0, max=37041), HTML(value='')))"
      ]
     },
     "metadata": {},
     "output_type": "display_data"
    },
    {
     "name": "stdout",
     "output_type": "stream",
     "text": [
      "\n"
     ]
    }
   ],
   "source": [
    "for item in tqdm(df_market['model_m'][:int(n_sample)]):\n",
    "\n",
    "    m_vendor = df_market[df_market['model_m'] == item]['ven_m'].values[0]\n",
    "\n",
    "    if not df_dev[df_dev['ven_d'] == m_vendor].empty:\n",
    "        d_models = list(df_dev[df_dev['ven_d'] == m_vendor]['model_d'])\n",
    "        match_model, match_score = match(item, d_models)\n",
    "    else:\n",
    "        match_series, score_series = (fill_series(match_series, ''), fill_series(score_series, ''))\n",
    "        tac_series = fill_series(tac_series, '')\n",
    "        continue\n",
    "\n",
    "    if match_model is None:\n",
    "        match_series, score_series = (fill_series(match_series, ''), fill_series(score_series, ''))\n",
    "        tac_series = fill_series(tac_series, '')\n",
    "        continue\n",
    "\n",
    "    tac_series = fill_series(tac_series, df_dev[df_dev['model_d'] == match_model]['tac_d'].values[0])\n",
    "    score_series, match_series = (fill_series(score_series, match_score), fill_series(match_series, match_model))"
   ]
  },
  {
   "cell_type": "markdown",
   "metadata": {},
   "source": [
    "Add the series to the base frame:"
   ]
  },
  {
   "cell_type": "code",
   "execution_count": 16,
   "metadata": {},
   "outputs": [],
   "source": [
    "df_match = pd.DataFrame({'model_d': match_series, 'score': score_series, 'tac_d': tac_series})\n",
    "df_market_matched = pd.concat([df_market[:int(n_sample)], df_match], axis=1)"
   ]
  },
  {
   "cell_type": "markdown",
   "metadata": {},
   "source": [
    "Change empty entries for NaNs:"
   ]
  },
  {
   "cell_type": "code",
   "execution_count": 17,
   "metadata": {},
   "outputs": [],
   "source": [
    "df_market_matched = df_market_matched.apply(lambda x: x.str.strip() if isinstance(x, str) else x).replace('', np.nan)"
   ]
  },
  {
   "cell_type": "markdown",
   "metadata": {},
   "source": [
    "Drop records with missing values and order by affinity:"
   ]
  },
  {
   "cell_type": "code",
   "execution_count": 18,
   "metadata": {},
   "outputs": [],
   "source": [
    "df_market_matched_clean = df_market_matched.dropna(how='any', axis=0)\n",
    "df_market_matched_clean = df_market_matched_clean.sort_values(by=['score'], ascending=False)"
   ]
  },
  {
   "cell_type": "markdown",
   "metadata": {},
   "source": [
    "Display first entries:"
   ]
  },
  {
   "cell_type": "code",
   "execution_count": 19,
   "metadata": {},
   "outputs": [
    {
     "data": {
      "text/html": [
       "<div>\n",
       "<style scoped>\n",
       "    .dataframe tbody tr th:only-of-type {\n",
       "        vertical-align: middle;\n",
       "    }\n",
       "\n",
       "    .dataframe tbody tr th {\n",
       "        vertical-align: top;\n",
       "    }\n",
       "\n",
       "    .dataframe thead th {\n",
       "        text-align: right;\n",
       "    }\n",
       "</style>\n",
       "<table border=\"1\" class=\"dataframe\">\n",
       "  <thead>\n",
       "    <tr style=\"text-align: right;\">\n",
       "      <th></th>\n",
       "      <th>ven_m</th>\n",
       "      <th>class_m</th>\n",
       "      <th>model_m</th>\n",
       "      <th>model_d</th>\n",
       "      <th>score</th>\n",
       "      <th>tac_d</th>\n",
       "    </tr>\n",
       "  </thead>\n",
       "  <tbody>\n",
       "    <tr>\n",
       "      <th>16231</th>\n",
       "      <td>zte</td>\n",
       "      <td>мобильные телефоны</td>\n",
       "      <td>blade v 9</td>\n",
       "      <td>blade v 9</td>\n",
       "      <td>1.0</td>\n",
       "      <td>86951103</td>\n",
       "    </tr>\n",
       "    <tr>\n",
       "      <th>14158</th>\n",
       "      <td>lenovo</td>\n",
       "      <td>мобильные телефоны</td>\n",
       "      <td>a 6010</td>\n",
       "      <td>a 6010</td>\n",
       "      <td>1.0</td>\n",
       "      <td>99001292</td>\n",
       "    </tr>\n",
       "    <tr>\n",
       "      <th>26196</th>\n",
       "      <td>archos</td>\n",
       "      <td>планшеты</td>\n",
       "      <td>70 b helium</td>\n",
       "      <td>70 b helium</td>\n",
       "      <td>1.0</td>\n",
       "      <td>35524607</td>\n",
       "    </tr>\n",
       "    <tr>\n",
       "      <th>9191</th>\n",
       "      <td>philips</td>\n",
       "      <td>мобильные телефоны</td>\n",
       "      <td>s 398</td>\n",
       "      <td>s 398</td>\n",
       "      <td>1.0</td>\n",
       "      <td>86858002</td>\n",
       "    </tr>\n",
       "    <tr>\n",
       "      <th>19208</th>\n",
       "      <td>supra</td>\n",
       "      <td>планшеты</td>\n",
       "      <td>m 74 ag</td>\n",
       "      <td>m 74 ag</td>\n",
       "      <td>1.0</td>\n",
       "      <td>35163407</td>\n",
       "    </tr>\n",
       "  </tbody>\n",
       "</table>\n",
       "</div>"
      ],
      "text/plain": [
       "         ven_m             class_m      model_m      model_d  score     tac_d\n",
       "16231      zte  мобильные телефоны  blade v 9      blade v 9    1.0  86951103\n",
       "14158   lenovo  мобильные телефоны       a 6010       a 6010    1.0  99001292\n",
       "26196   archos            планшеты  70 b helium  70 b helium    1.0  35524607\n",
       "9191   philips  мобильные телефоны        s 398        s 398    1.0  86858002\n",
       "19208    supra            планшеты      m 74 ag      m 74 ag    1.0  35163407"
      ]
     },
     "execution_count": 19,
     "metadata": {},
     "output_type": "execute_result"
    }
   ],
   "source": [
    "df_market_matched_clean.head()"
   ]
  },
  {
   "cell_type": "markdown",
   "metadata": {},
   "source": [
    "Show random sample:"
   ]
  },
  {
   "cell_type": "code",
   "execution_count": 20,
   "metadata": {
    "scrolled": true
   },
   "outputs": [
    {
     "data": {
      "text/html": [
       "<div>\n",
       "<style scoped>\n",
       "    .dataframe tbody tr th:only-of-type {\n",
       "        vertical-align: middle;\n",
       "    }\n",
       "\n",
       "    .dataframe tbody tr th {\n",
       "        vertical-align: top;\n",
       "    }\n",
       "\n",
       "    .dataframe thead th {\n",
       "        text-align: right;\n",
       "    }\n",
       "</style>\n",
       "<table border=\"1\" class=\"dataframe\">\n",
       "  <thead>\n",
       "    <tr style=\"text-align: right;\">\n",
       "      <th></th>\n",
       "      <th>ven_m</th>\n",
       "      <th>class_m</th>\n",
       "      <th>model_m</th>\n",
       "      <th>model_d</th>\n",
       "      <th>score</th>\n",
       "      <th>tac_d</th>\n",
       "    </tr>\n",
       "  </thead>\n",
       "  <tbody>\n",
       "    <tr>\n",
       "      <th>19066</th>\n",
       "      <td>alcatel</td>\n",
       "      <td>мобильные телефоны</td>\n",
       "      <td>pop c 5</td>\n",
       "      <td>one touch pop c 5  dual ot  5036 d</td>\n",
       "      <td>0.555556</td>\n",
       "      <td>86545602</td>\n",
       "    </tr>\n",
       "    <tr>\n",
       "      <th>19190</th>\n",
       "      <td>nokia</td>\n",
       "      <td>мобильные телефоны</td>\n",
       "      <td>asha  501  sim</td>\n",
       "      <td>asha  208  dual sim  2  rm  956</td>\n",
       "      <td>0.508598</td>\n",
       "      <td>35727705</td>\n",
       "    </tr>\n",
       "    <tr>\n",
       "      <th>779</th>\n",
       "      <td>acer</td>\n",
       "      <td>мультимедиа проекторы</td>\n",
       "      <td>v 7500</td>\n",
       "      <td>v 350</td>\n",
       "      <td>0.583333</td>\n",
       "      <td>35561705</td>\n",
       "    </tr>\n",
       "    <tr>\n",
       "      <th>12002</th>\n",
       "      <td>philips</td>\n",
       "      <td>радиотелефоны</td>\n",
       "      <td>d  6051</td>\n",
       "      <td>d 813</td>\n",
       "      <td>0.583333</td>\n",
       "      <td>86496500</td>\n",
       "    </tr>\n",
       "    <tr>\n",
       "      <th>23410</th>\n",
       "      <td>meizu</td>\n",
       "      <td>мобильные телефоны</td>\n",
       "      <td>m 6 t  3</td>\n",
       "      <td>m 2  m 578 m  3</td>\n",
       "      <td>0.520833</td>\n",
       "      <td>86844902</td>\n",
       "    </tr>\n",
       "  </tbody>\n",
       "</table>\n",
       "</div>"
      ],
      "text/plain": [
       "         ven_m                class_m         model_m  \\\n",
       "19066  alcatel     мобильные телефоны         pop c 5   \n",
       "19190    nokia     мобильные телефоны  asha  501  sim   \n",
       "779       acer  мультимедиа проекторы          v 7500   \n",
       "12002  philips          радиотелефоны         d  6051   \n",
       "23410    meizu     мобильные телефоны      m 6 t  3     \n",
       "\n",
       "                                  model_d     score     tac_d  \n",
       "19066  one touch pop c 5  dual ot  5036 d  0.555556  86545602  \n",
       "19190     asha  208  dual sim  2  rm  956  0.508598  35727705  \n",
       "779                                 v 350  0.583333  35561705  \n",
       "12002                               d 813  0.583333  86496500  \n",
       "23410                     m 2  m 578 m  3  0.520833  86844902  "
      ]
     },
     "execution_count": 20,
     "metadata": {},
     "output_type": "execute_result"
    }
   ],
   "source": [
    "df_market_matched_clean.sample(n=min(5, len(df_market_matched_clean)))"
   ]
  },
  {
   "cell_type": "markdown",
   "metadata": {},
   "source": [
    "Fraction of unrecognized patterns:"
   ]
  },
  {
   "cell_type": "code",
   "execution_count": 21,
   "metadata": {},
   "outputs": [
    {
     "name": "stdout",
     "output_type": "stream",
     "text": [
      "Доля нераспознанных паттернов: 97 %\n"
     ]
    }
   ],
   "source": [
    "print('Fraction of unrecognized patterns:', round(100-100*len(df_market_matched_clean)/len(df_market_matched)), '%')"
   ]
  },
  {
   "cell_type": "markdown",
   "metadata": {},
   "source": [
    "Records recognized:"
   ]
  },
  {
   "cell_type": "code",
   "execution_count": 22,
   "metadata": {
    "scrolled": true
   },
   "outputs": [
    {
     "name": "stdout",
     "output_type": "stream",
     "text": [
      "Объем выборки с распознанными паттернами: 1135\n"
     ]
    }
   ],
   "source": [
    "print('Records recognized:', len(df_market_matched_clean))"
   ]
  },
  {
   "cell_type": "markdown",
   "metadata": {},
   "source": [
    "Minimum sample for test:"
   ]
  },
  {
   "cell_type": "code",
   "execution_count": 23,
   "metadata": {},
   "outputs": [
    {
     "name": "stdout",
     "output_type": "stream",
     "text": [
      "Minimum sample for test: 11\n"
     ]
    }
   ],
   "source": [
    "sample_size = TTestIndPower().solve_power(effect, power=stat_power,nobs1=None, ratio=ratio, alpha=(1-confidence))\n",
    "print('Minimum sample for test:', int(sample_size))"
   ]
  },
  {
   "cell_type": "markdown",
   "metadata": {},
   "source": [
    "Definition of statistics:"
   ]
  },
  {
   "cell_type": "code",
   "execution_count": 24,
   "metadata": {},
   "outputs": [],
   "source": [
    "(std_score, avg_score) = (df_market_matched_clean['score'].std(), df_market_matched_clean['score'].mean())\n",
    "(min_score, max_score) = (df_market_matched_clean['score'].min(), df_market_matched_clean['score'].max())"
   ]
  },
  {
   "cell_type": "markdown",
   "metadata": {},
   "source": [
    "Affinity score statistics:"
   ]
  },
  {
   "cell_type": "code",
   "execution_count": 25,
   "metadata": {},
   "outputs": [
    {
     "name": "stdout",
     "output_type": "stream",
     "text": [
      "Average: 0.66\n",
      "Standard: 0.12\n",
      "Min: 0.5\n",
      "Max: 1.0\n"
     ]
    }
   ],
   "source": [
    "print('Average:', round(avg_score, 2))\n",
    "print('Standard:', round(std_score, 2))\n",
    "print('Min:', round(min_score, 2))\n",
    "print('Max:', round(max_score, 2))"
   ]
  },
  {
   "cell_type": "markdown",
   "metadata": {},
   "source": [
    "Stability diagram:"
   ]
  },
  {
   "cell_type": "markdown",
   "metadata": {},
   "source": [
    "<img src='images/stability.png' width = 400 align='left'>"
   ]
  },
  {
   "cell_type": "markdown",
   "metadata": {},
   "source": [
    "Write the table of fuzzy matches:"
   ]
  },
  {
   "cell_type": "code",
   "execution_count": 26,
   "metadata": {},
   "outputs": [],
   "source": [
    "df_market_matched_clean.to_csv('data/market_matched_clean.csv', index=False)"
   ]
  }
 ],
 "metadata": {
  "kernelspec": {
   "display_name": "Python 3",
   "language": "python",
   "name": "python3"
  },
  "language_info": {
   "codemirror_mode": {
    "name": "ipython",
    "version": 3
   },
   "file_extension": ".py",
   "mimetype": "text/x-python",
   "name": "python",
   "nbconvert_exporter": "python",
   "pygments_lexer": "ipython3",
   "version": "3.7.3"
  }
 },
 "nbformat": 4,
 "nbformat_minor": 2
}
