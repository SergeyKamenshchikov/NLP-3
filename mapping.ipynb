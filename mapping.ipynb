{
 "cells": [
  {
   "cell_type": "code",
   "execution_count": 3,
   "metadata": {},
   "outputs": [],
   "source": [
    "import pandas as pd\n",
    "import numpy as np\n",
    "import matplotlib.pyplot as plt\n",
    "import sys\n",
    "import os\n",
    "import re\n",
    "from ipywidgets import IntProgress\n",
    "from IPython.display import display\n",
    "from tqdm.auto import tqdm\n",
    "from ordered_set import OrderedSet\n",
    "from scipy.stats import sem, t\n",
    "from scipy import stats as stats \n",
    "from scipy import mean\n",
    "from nltk.metrics.distance import jaro_similarity\n",
    "from nltk.metrics.distance import jaro_winkler_similarity"
   ]
  },
  {
   "cell_type": "markdown",
   "metadata": {},
   "source": [
    "Гиперпараметры:"
   ]
  },
  {
   "cell_type": "code",
   "execution_count": 1715,
   "metadata": {},
   "outputs": [],
   "source": [
    "min_score_limit = 0.7 #отсечка алгоритма Джаро-Винклера\n",
    "max_length = 11 #максимальный префикс Джаро-Винклера\n",
    "prefix_bias = 0.25 #вес в пользу общего префикса"
   ]
  },
  {
   "cell_type": "markdown",
   "metadata": {},
   "source": [
    "Статистические параметры:"
   ]
  },
  {
   "cell_type": "code",
   "execution_count": 1716,
   "metadata": {},
   "outputs": [],
   "source": [
    "accuracy = 0.3 #точность\n",
    "interval = 0.05 #допустимое отклонение\n",
    "confidence = 0.8 #достоверность\n",
    "stat_power = 0.8 #статистическая мощность"
   ]
  },
  {
   "cell_type": "markdown",
   "metadata": {},
   "source": [
    "Функция прогресса:"
   ]
  },
  {
   "cell_type": "code",
   "execution_count": 1717,
   "metadata": {},
   "outputs": [],
   "source": [
    "def log_progress(sequence, every=1):\n",
    "    progress = IntProgress(min=0, max=len(sequence), value=0)\n",
    "    display(progress)\n",
    "    \n",
    "    for index, record in enumerate(sequence):\n",
    "        if index % every == 0:\n",
    "            progress.value = index\n",
    "        yield record "
   ]
  },
  {
   "cell_type": "markdown",
   "metadata": {},
   "source": [
    "Функция поиска оптимального соответствия:"
   ]
  },
  {
   "cell_type": "code",
   "execution_count": 1718,
   "metadata": {},
   "outputs": [],
   "source": [
    "def match(pattern, options):\n",
    "    best_match = ''\n",
    "    min_score = min_score_limit\n",
    "    \n",
    "    for item in options:\n",
    "        \n",
    "        p_set = OrderedSet(pattern.split())\n",
    "        i_set = OrderedSet(item.split())         \n",
    "        jaro_winkler_score = jaro_winkler_similarity(p_set, i_set, p=prefix_bias, max_l=max_length)\n",
    "            \n",
    "        if  jaro_winkler_score > min_score:\n",
    "            min_score = jaro_winkler_score\n",
    "            best_match = item\n",
    "    \n",
    "    return [best_match, round(min_score, 2)] "
   ]
  },
  {
   "cell_type": "markdown",
   "metadata": {},
   "source": [
    "Добавление нового элемента в серии:"
   ]
  },
  {
   "cell_type": "code",
   "execution_count": 1719,
   "metadata": {},
   "outputs": [],
   "source": [
    "def append_ser(S):\n",
    "    S = S.append(pd.Series(''), ignore_index=True)\n",
    "    return S"
   ]
  },
  {
   "cell_type": "markdown",
   "metadata": {},
   "source": [
    "Статистическая мощность:"
   ]
  },
  {
   "cell_type": "code",
   "execution_count": 1720,
   "metadata": {},
   "outputs": [],
   "source": [
    "def get_power(n, p1, p2, cl):\n",
    "    \n",
    "    alpha = 1 - cl\n",
    "    qu = stats.norm.ppf(1 - alpha/2)\n",
    "    diff = abs(p2 - p1)\n",
    "    bp = (p1 + p2) / 2\n",
    "    \n",
    "    v1 = p1 * (1 - p1)\n",
    "    v2 = p2 * (1 - p2)\n",
    "    bv = bp * (1 - bp)\n",
    "    \n",
    "    power_part_one = stats.norm.cdf((n**0.5 * diff - qu * (2 * bv)**0.5)/(v1 + v2)**0.5)\n",
    "    power_part_two = 1 - stats.norm.cdf((n**0.5 * diff + qu * (2 * bv)**0.5)/(v1 + v2)**0.5)\n",
    "    power = power_part_one + power_part_two\n",
    "    \n",
    "    return(power)"
   ]
  },
  {
   "cell_type": "markdown",
   "metadata": {},
   "source": [
    "Минимальный объем выборки:"
   ]
  },
  {
   "cell_type": "code",
   "execution_count": 1721,
   "metadata": {},
   "outputs": [],
   "source": [
    "def get_sample_size(power, p1, p2, cl, max_n = 100000):\n",
    "    n = 1\n",
    "    while n <= max_n:\n",
    "        tmp_power = get_power(n, p1, p2, cl)\n",
    "        if tmp_power >= power:\n",
    "            return n\n",
    "        else:\n",
    "            n = n + 1"
   ]
  },
  {
   "cell_type": "markdown",
   "metadata": {},
   "source": [
    "Читаем очищенный каталог устройств в df_devices:"
   ]
  },
  {
   "cell_type": "code",
   "execution_count": 1722,
   "metadata": {},
   "outputs": [
    {
     "data": {
      "text/html": [
       "<div>\n",
       "<style scoped>\n",
       "    .dataframe tbody tr th:only-of-type {\n",
       "        vertical-align: middle;\n",
       "    }\n",
       "\n",
       "    .dataframe tbody tr th {\n",
       "        vertical-align: top;\n",
       "    }\n",
       "\n",
       "    .dataframe thead th {\n",
       "        text-align: right;\n",
       "    }\n",
       "</style>\n",
       "<table border=\"1\" class=\"dataframe\">\n",
       "  <thead>\n",
       "    <tr style=\"text-align: right;\">\n",
       "      <th></th>\n",
       "      <th>ven_d</th>\n",
       "      <th>model_d</th>\n",
       "      <th>tac_d</th>\n",
       "    </tr>\n",
       "  </thead>\n",
       "  <tbody>\n",
       "  </tbody>\n",
       "</table>\n",
       "</div>"
      ],
      "text/plain": [
       "Empty DataFrame\n",
       "Columns: [ven_d, model_d, tac_d]\n",
       "Index: []"
      ]
     },
     "execution_count": 1722,
     "metadata": {},
     "output_type": "execute_result"
    }
   ],
   "source": [
    "df_dev = pd.read_csv('data/devices_clean.csv') \n",
    "df_dev = df_dev.astype({'ven_d': 'str', 'model_d': 'str', 'tac_d': 'str'})\n",
    "df_dev.head(0)"
   ]
  },
  {
   "cell_type": "markdown",
   "metadata": {},
   "source": [
    "Читаем очищенный каталог ЯМ-TOP в 'df_market':"
   ]
  },
  {
   "cell_type": "code",
   "execution_count": 4,
   "metadata": {
    "scrolled": true
   },
   "outputs": [
    {
     "data": {
      "text/html": [
       "<div>\n",
       "<style scoped>\n",
       "    .dataframe tbody tr th:only-of-type {\n",
       "        vertical-align: middle;\n",
       "    }\n",
       "\n",
       "    .dataframe tbody tr th {\n",
       "        vertical-align: top;\n",
       "    }\n",
       "\n",
       "    .dataframe thead th {\n",
       "        text-align: right;\n",
       "    }\n",
       "</style>\n",
       "<table border=\"1\" class=\"dataframe\">\n",
       "  <thead>\n",
       "    <tr style=\"text-align: right;\">\n",
       "      <th></th>\n",
       "      <th>ven_m</th>\n",
       "      <th>model_m</th>\n",
       "      <th>class_m</th>\n",
       "    </tr>\n",
       "  </thead>\n",
       "  <tbody>\n",
       "  </tbody>\n",
       "</table>\n",
       "</div>"
      ],
      "text/plain": [
       "Empty DataFrame\n",
       "Columns: [ven_m, model_m, class_m]\n",
       "Index: []"
      ]
     },
     "execution_count": 4,
     "metadata": {},
     "output_type": "execute_result"
    }
   ],
   "source": [
    "df_market = pd.read_csv('data/market_clean.csv')[['ven_m', 'model_m', 'class_m']]\n",
    "df_market = df_market.astype({'ven_m': 'str', 'model_m': 'str', 'class_m': 'str'})\n",
    "df_market.head(0)"
   ]
  },
  {
   "cell_type": "markdown",
   "metadata": {},
   "source": [
    "Созданием пустые серии для соответствия, дистанции и tac номера:"
   ]
  },
  {
   "cell_type": "code",
   "execution_count": 1724,
   "metadata": {},
   "outputs": [],
   "source": [
    "match_series, tac_series, score_series = (pd.Series(), pd.Series(), pd.Series())"
   ]
  },
  {
   "cell_type": "markdown",
   "metadata": {},
   "source": [
    "Поиск соответствий (match) и заполнение match_series, tac_series, score_series:"
   ]
  },
  {
   "cell_type": "code",
   "execution_count": 1725,
   "metadata": {},
   "outputs": [
    {
     "data": {
      "application/vnd.jupyter.widget-view+json": {
       "model_id": "fd85fcafa21f46a8ae2b370c4a888d19",
       "version_major": 2,
       "version_minor": 0
      },
      "text/plain": [
       "IntProgress(value=0, max=7294)"
      ]
     },
     "metadata": {},
     "output_type": "display_data"
    }
   ],
   "source": [
    "for item in log_progress(df_market['model_m'], every=5):\n",
    "    \n",
    "    (match_series, tac_series) = (append_ser(match_series), append_ser(tac_series)) \n",
    "    score_series = append_ser(score_series)\n",
    "    digit_relations = True\n",
    "    \n",
    "    market_vendor = df_market[df_market['model_m']==item]['ven_m'].values[0]\n",
    "    \n",
    "    if df_dev[df_dev['ven_d']==market_vendor].empty is False:\n",
    "        \n",
    "        device_models = list(df_dev[df_dev['ven_d'] == market_vendor]['model_d'])\n",
    "        match_model = match(item, device_models)[0]\n",
    "        match_score = match(item, device_models)[1]\n",
    "        \n",
    "        if re.search(r'\\d+', item) and re.search(r'\\d+', match_model):\n",
    "            digit_relations = bool(re.search(r'\\d+', item)[0]==re.search(r'\\d+', match_model)[0])  \n",
    "        \n",
    "        if  digit_relations is True and (match_model is not ''):\n",
    "            \n",
    "            match_tac = df_dev[df_dev['model_d']==match_model]['tac_d'].values[0]           \n",
    "            \n",
    "            match_series = match_series[:-1].append(pd.Series(match_model), ignore_index=True)\n",
    "            tac_series = tac_series[:-1].append(pd.Series(match_tac), ignore_index=True) \n",
    "            score_series = score_series[:-1].append(pd.Series(match_score), ignore_index=True)"
   ]
  },
  {
   "cell_type": "markdown",
   "metadata": {},
   "source": [
    "Добавляем серии в базовый фрейм:"
   ]
  },
  {
   "cell_type": "code",
   "execution_count": 1726,
   "metadata": {},
   "outputs": [],
   "source": [
    "df_match = pd.DataFrame({'model_d': match_series, 'score': score_series, 'tac_d': tac_series})\n",
    "df_market = pd.concat([df_market, df_match] ,axis=1)\n",
    "df_market = df_market.apply(lambda x: x.str.strip() if isinstance(x, str) else x).replace('', np.nan)"
   ]
  },
  {
   "cell_type": "markdown",
   "metadata": {},
   "source": [
    "Создаем новый фрейм без пропущенных записей:"
   ]
  },
  {
   "cell_type": "code",
   "execution_count": 1727,
   "metadata": {},
   "outputs": [],
   "source": [
    "df_market_matched = df_market.dropna(how='any', axis=0)"
   ]
  },
  {
   "cell_type": "markdown",
   "metadata": {},
   "source": [
    "Выводим случайный сэмпл:"
   ]
  },
  {
   "cell_type": "code",
   "execution_count": 1728,
   "metadata": {},
   "outputs": [
    {
     "data": {
      "text/html": [
       "<div>\n",
       "<style scoped>\n",
       "    .dataframe tbody tr th:only-of-type {\n",
       "        vertical-align: middle;\n",
       "    }\n",
       "\n",
       "    .dataframe tbody tr th {\n",
       "        vertical-align: top;\n",
       "    }\n",
       "\n",
       "    .dataframe thead th {\n",
       "        text-align: right;\n",
       "    }\n",
       "</style>\n",
       "<table border=\"1\" class=\"dataframe\">\n",
       "  <thead>\n",
       "    <tr style=\"text-align: right;\">\n",
       "      <th></th>\n",
       "      <th>ven_m</th>\n",
       "      <th>model_m</th>\n",
       "      <th>class_m</th>\n",
       "      <th>model_d</th>\n",
       "      <th>score</th>\n",
       "      <th>tac_d</th>\n",
       "    </tr>\n",
       "  </thead>\n",
       "  <tbody>\n",
       "    <tr>\n",
       "      <th>3181</th>\n",
       "      <td>xiaomi</td>\n",
       "      <td>mi a2 lite 4  android one</td>\n",
       "      <td>мобильные телефоны</td>\n",
       "      <td>mi a2 lite m1805e2c</td>\n",
       "      <td>0.90</td>\n",
       "      <td>86870903</td>\n",
       "    </tr>\n",
       "    <tr>\n",
       "      <th>3170</th>\n",
       "      <td>huawei</td>\n",
       "      <td>y7 2019</td>\n",
       "      <td>мобильные телефоны</td>\n",
       "      <td>y7 prime 2019 dub tl20</td>\n",
       "      <td>0.84</td>\n",
       "      <td>86764704</td>\n",
       "    </tr>\n",
       "    <tr>\n",
       "      <th>2906</th>\n",
       "      <td>fly</td>\n",
       "      <td>life compact 4g</td>\n",
       "      <td>мобильные телефоны</td>\n",
       "      <td>life compact</td>\n",
       "      <td>0.93</td>\n",
       "      <td>35558809</td>\n",
       "    </tr>\n",
       "    <tr>\n",
       "      <th>3009</th>\n",
       "      <td>samsung</td>\n",
       "      <td>galaxy tab s 10 5 sm t800</td>\n",
       "      <td>планшеты</td>\n",
       "      <td>galaxy tab a 10 5 sm t597p</td>\n",
       "      <td>0.89</td>\n",
       "      <td>35840909</td>\n",
       "    </tr>\n",
       "    <tr>\n",
       "      <th>7160</th>\n",
       "      <td>samsung</td>\n",
       "      <td>galaxy j3 2016 sm j320f ds</td>\n",
       "      <td>мобильные телефоны</td>\n",
       "      <td>galaxy j3 2018 sm j337t</td>\n",
       "      <td>0.82</td>\n",
       "      <td>35573909</td>\n",
       "    </tr>\n",
       "    <tr>\n",
       "      <th>3229</th>\n",
       "      <td>xiaomi</td>\n",
       "      <td>redmi 7 4</td>\n",
       "      <td>мобильные телефоны</td>\n",
       "      <td>redmi 7 m1810f6lt</td>\n",
       "      <td>0.87</td>\n",
       "      <td>86609304</td>\n",
       "    </tr>\n",
       "    <tr>\n",
       "      <th>2788</th>\n",
       "      <td>xiaomi</td>\n",
       "      <td>mi max 3 4</td>\n",
       "      <td>мобильные телефоны</td>\n",
       "      <td>mi max 3 m1804e4c</td>\n",
       "      <td>0.93</td>\n",
       "      <td>86871003</td>\n",
       "    </tr>\n",
       "    <tr>\n",
       "      <th>2761</th>\n",
       "      <td>huawei</td>\n",
       "      <td>p rt 2019 3</td>\n",
       "      <td>мобильные телефоны</td>\n",
       "      <td>p smart 2019 pot al00</td>\n",
       "      <td>0.71</td>\n",
       "      <td>86891204</td>\n",
       "    </tr>\n",
       "    <tr>\n",
       "      <th>2849</th>\n",
       "      <td>nokia</td>\n",
       "      <td>1</td>\n",
       "      <td>мобильные телефоны</td>\n",
       "      <td>1 ta 1079</td>\n",
       "      <td>0.82</td>\n",
       "      <td>35447909</td>\n",
       "    </tr>\n",
       "    <tr>\n",
       "      <th>5332</th>\n",
       "      <td>samsung</td>\n",
       "      <td>galaxy tab a 10 1 sm t580</td>\n",
       "      <td>планшеты</td>\n",
       "      <td>galaxy tab a 10 5 sm t597v 1</td>\n",
       "      <td>0.96</td>\n",
       "      <td>35840809</td>\n",
       "    </tr>\n",
       "  </tbody>\n",
       "</table>\n",
       "</div>"
      ],
      "text/plain": [
       "        ven_m                     model_m             class_m  \\\n",
       "3181   xiaomi   mi a2 lite 4  android one  мобильные телефоны   \n",
       "3170   huawei                     y7 2019  мобильные телефоны   \n",
       "2906      fly             life compact 4g  мобильные телефоны   \n",
       "3009  samsung  galaxy tab s 10 5 sm t800             планшеты   \n",
       "7160  samsung  galaxy j3 2016 sm j320f ds  мобильные телефоны   \n",
       "3229   xiaomi                  redmi 7 4   мобильные телефоны   \n",
       "2788   xiaomi                 mi max 3 4   мобильные телефоны   \n",
       "2761   huawei                p rt 2019 3   мобильные телефоны   \n",
       "2849    nokia                           1  мобильные телефоны   \n",
       "5332  samsung  galaxy tab a 10 1 sm t580             планшеты   \n",
       "\n",
       "                           model_d  score     tac_d  \n",
       "3181           mi a2 lite m1805e2c   0.90  86870903  \n",
       "3170        y7 prime 2019 dub tl20   0.84  86764704  \n",
       "2906                  life compact   0.93  35558809  \n",
       "3009    galaxy tab a 10 5 sm t597p   0.89  35840909  \n",
       "7160       galaxy j3 2018 sm j337t   0.82  35573909  \n",
       "3229             redmi 7 m1810f6lt   0.87  86609304  \n",
       "2788             mi max 3 m1804e4c   0.93  86871003  \n",
       "2761         p smart 2019 pot al00   0.71  86891204  \n",
       "2849                     1 ta 1079   0.82  35447909  \n",
       "5332  galaxy tab a 10 5 sm t597v 1   0.96  35840809  "
      ]
     },
     "execution_count": 1728,
     "metadata": {},
     "output_type": "execute_result"
    }
   ],
   "source": [
    "df_market_matched.sample(n=10)"
   ]
  },
  {
   "cell_type": "markdown",
   "metadata": {},
   "source": [
    "Выводим число распознанных моделей:"
   ]
  },
  {
   "cell_type": "code",
   "execution_count": 1729,
   "metadata": {
    "scrolled": true
   },
   "outputs": [
    {
     "name": "stdout",
     "output_type": "stream",
     "text": [
      "Доля распознанных паттернов: 2 %\n"
     ]
    }
   ],
   "source": [
    "print('Доля распознанных паттернов:',round(100*len(df_market_matched)/len(df_market)), '%')"
   ]
  },
  {
   "cell_type": "markdown",
   "metadata": {},
   "source": [
    "Объем выборки с распознанными сущностями:"
   ]
  },
  {
   "cell_type": "code",
   "execution_count": 1730,
   "metadata": {},
   "outputs": [
    {
     "name": "stdout",
     "output_type": "stream",
     "text": [
      "Объем выборки с распознанными паттернами: 153\n"
     ]
    }
   ],
   "source": [
    "print('Объем выборки с распознанными паттернами:',len(df_market_matched))"
   ]
  },
  {
   "cell_type": "markdown",
   "metadata": {},
   "source": [
    "Необходимый объем выборки для распознавания:"
   ]
  },
  {
   "cell_type": "code",
   "execution_count": 1731,
   "metadata": {},
   "outputs": [
    {
     "name": "stdout",
     "output_type": "stream",
     "text": [
      "Min. объем выборки для распознавания: 8523\n"
     ]
    }
   ],
   "source": [
    "sample_size = get_sample_size(stat_power, accuracy, accuracy*(1+interval), confidence)\n",
    "print('Min. объем выборки для распознавания:', sample_size)"
   ]
  },
  {
   "cell_type": "markdown",
   "metadata": {},
   "source": [
    "Интервал метрики Джаро-Винклера:"
   ]
  },
  {
   "cell_type": "code",
   "execution_count": 1732,
   "metadata": {},
   "outputs": [
    {
     "name": "stdout",
     "output_type": "stream",
     "text": [
      "Интервал: (0.86, 0.87)\n"
     ]
    }
   ],
   "source": [
    "h = sem(df_market_matched['score']) * t.ppf((1 + confidence) / 2, len(df_market_matched['score']) - 1)\n",
    "trust_interval = (round(mean(df_market_matched['score'])-h,2), round(mean(df_market_matched['score'])+h,2))\n",
    "print('Интервал:', trust_interval)"
   ]
  },
  {
   "cell_type": "markdown",
   "metadata": {},
   "source": [
    "Статистики Джаро-Винклера:"
   ]
  },
  {
   "cell_type": "code",
   "execution_count": 1733,
   "metadata": {},
   "outputs": [
    {
     "name": "stdout",
     "output_type": "stream",
     "text": [
      "Медиана: 0.87\n",
      "Стандарт: 0.07\n",
      "Min-Max: 0.71-1.03\n"
     ]
    }
   ],
   "source": [
    "print('Медиана:',df_market_matched['score'].median())\n",
    "print('Стандарт:',round(df_market_matched['score'].std(),2))\n",
    "print('Min-Max:', str(df_market_matched['score'].min())+'-'+str(df_market_matched['score'].max()))"
   ]
  },
  {
   "cell_type": "markdown",
   "metadata": {},
   "source": [
    "Записываем таблицу соответствий:"
   ]
  },
  {
   "cell_type": "code",
   "execution_count": 1734,
   "metadata": {},
   "outputs": [],
   "source": [
    "df_market_matched.to_csv('data/market_matched.csv', index=False)"
   ]
  }
 ],
 "metadata": {
  "kernelspec": {
   "display_name": "Python 3",
   "language": "python",
   "name": "python3"
  },
  "language_info": {
   "codemirror_mode": {
    "name": "ipython",
    "version": 3
   },
   "file_extension": ".py",
   "mimetype": "text/x-python",
   "name": "python",
   "nbconvert_exporter": "python",
   "pygments_lexer": "ipython3",
   "version": "3.7.3"
  }
 },
 "nbformat": 4,
 "nbformat_minor": 2
}
