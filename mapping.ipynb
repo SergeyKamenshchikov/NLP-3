{
 "cells": [
  {
   "cell_type": "code",
   "execution_count": 506,
   "metadata": {},
   "outputs": [],
   "source": [
    "import pandas as pd\n",
    "import random\n",
    "import io\n",
    "import matplotlib.pyplot as plt\n",
    "import sys\n",
    "import os\n",
    "import codecs\n",
    "import string\n",
    "import re\n",
    "from ipywidgets import IntProgress\n",
    "from IPython.display import display\n",
    "from tqdm.auto import tqdm\n",
    "from ordered_set import OrderedSet\n",
    "from nltk import edit_distance\n",
    "from nltk.metrics.distance import jaro_similarity"
   ]
  },
  {
   "cell_type": "markdown",
   "metadata": {},
   "source": [
    "Гиперпараметры:"
   ]
  },
  {
   "cell_type": "code",
   "execution_count": 507,
   "metadata": {},
   "outputs": [],
   "source": [
    "min_score_limit = 0.5\n",
    "vendor_filter = False"
   ]
  },
  {
   "cell_type": "markdown",
   "metadata": {},
   "source": [
    "Функция поиска оптимального соответствия:"
   ]
  },
  {
   "cell_type": "code",
   "execution_count": 508,
   "metadata": {},
   "outputs": [],
   "source": [
    "def match(pattern, options):\n",
    "    \n",
    "    best_match = None\n",
    "    min_score = min_score_limit\n",
    "    m_vendor = d_vendor = '1'\n",
    "    \n",
    "    for item in options:\n",
    "        \n",
    "        if vendor_filter is True: \n",
    "            m_vendor = df_market[df_market.model_m==pattern].ven_m\n",
    "            d_vendor = df_dev[df_dev.model_d==item].ven_d\n",
    "        \n",
    "        if str(m_vendor)==str(d_vendor):\n",
    "            \n",
    "            p_set = OrderedSet(pattern.split())\n",
    "            i_set = OrderedSet(item.split())\n",
    "            \n",
    "            jaro_score = jaro_similarity(p_set, i_set)\n",
    "            jaccard_score = len(p_set.intersection(i_set))/len(p_set.union(i_set))\n",
    "            levenstein_score = edit_distance(p_set, i_set) \n",
    "            \n",
    "            current_score = levenstein_score\n",
    "            \n",
    "            if  current_score > min_score:\n",
    "                current_score = min_score\n",
    "                best_match = item\n",
    "\n",
    "    return best_match"
   ]
  },
  {
   "cell_type": "markdown",
   "metadata": {},
   "source": [
    "Читаем очищенный каталог устройств в df_devices:"
   ]
  },
  {
   "cell_type": "code",
   "execution_count": 509,
   "metadata": {},
   "outputs": [
    {
     "data": {
      "text/html": [
       "<div>\n",
       "<style scoped>\n",
       "    .dataframe tbody tr th:only-of-type {\n",
       "        vertical-align: middle;\n",
       "    }\n",
       "\n",
       "    .dataframe tbody tr th {\n",
       "        vertical-align: top;\n",
       "    }\n",
       "\n",
       "    .dataframe thead th {\n",
       "        text-align: right;\n",
       "    }\n",
       "</style>\n",
       "<table border=\"1\" class=\"dataframe\">\n",
       "  <thead>\n",
       "    <tr style=\"text-align: right;\">\n",
       "      <th></th>\n",
       "      <th>ven_d</th>\n",
       "      <th>model_d</th>\n",
       "      <th>tac_d</th>\n",
       "    </tr>\n",
       "  </thead>\n",
       "  <tbody>\n",
       "  </tbody>\n",
       "</table>\n",
       "</div>"
      ],
      "text/plain": [
       "Empty DataFrame\n",
       "Columns: [ven_d, model_d, tac_d]\n",
       "Index: []"
      ]
     },
     "execution_count": 509,
     "metadata": {},
     "output_type": "execute_result"
    }
   ],
   "source": [
    "df_dev = pd.read_csv('data/devices_clean.csv') \n",
    "df_dev = df_devices.astype({'ven_d': 'str', 'model_d': 'str', 'tac_d': 'str'})\n",
    "df_dev.head(0)"
   ]
  },
  {
   "cell_type": "markdown",
   "metadata": {},
   "source": [
    "Читаем очищенный каталог ЯМ-TOP в 'df_ym_top':"
   ]
  },
  {
   "cell_type": "code",
   "execution_count": 510,
   "metadata": {
    "scrolled": false
   },
   "outputs": [
    {
     "data": {
      "text/html": [
       "<div>\n",
       "<style scoped>\n",
       "    .dataframe tbody tr th:only-of-type {\n",
       "        vertical-align: middle;\n",
       "    }\n",
       "\n",
       "    .dataframe tbody tr th {\n",
       "        vertical-align: top;\n",
       "    }\n",
       "\n",
       "    .dataframe thead th {\n",
       "        text-align: right;\n",
       "    }\n",
       "</style>\n",
       "<table border=\"1\" class=\"dataframe\">\n",
       "  <thead>\n",
       "    <tr style=\"text-align: right;\">\n",
       "      <th></th>\n",
       "      <th>ven_m</th>\n",
       "      <th>model_m</th>\n",
       "      <th>class_m</th>\n",
       "    </tr>\n",
       "  </thead>\n",
       "  <tbody>\n",
       "  </tbody>\n",
       "</table>\n",
       "</div>"
      ],
      "text/plain": [
       "Empty DataFrame\n",
       "Columns: [ven_m, model_m, class_m]\n",
       "Index: []"
      ]
     },
     "execution_count": 510,
     "metadata": {},
     "output_type": "execute_result"
    }
   ],
   "source": [
    "df_market = pd.read_csv('data/market_clean.csv')\n",
    "df_market = df_market.astype({'ven_m': 'str', 'model_m': 'str', 'class_m': 'str'})\n",
    "df_market = df_market[['ven_m', 'model_m', 'class_m']]\n",
    "df_market.head(0)"
   ]
  },
  {
   "cell_type": "markdown",
   "metadata": {},
   "source": [
    "Сортировка по названию производителя:"
   ]
  },
  {
   "cell_type": "code",
   "execution_count": 511,
   "metadata": {},
   "outputs": [],
   "source": [
    "df_market.sort_values('ven_m', axis = 0, ascending = True, inplace = True) \n",
    "df_dev.sort_values('ven_d', axis = 0, ascending = True, inplace = True) "
   ]
  },
  {
   "cell_type": "markdown",
   "metadata": {},
   "source": [
    "Ищем соответствия:"
   ]
  },
  {
   "cell_type": "code",
   "execution_count": 512,
   "metadata": {},
   "outputs": [
    {
     "data": {
      "application/vnd.jupyter.widget-view+json": {
       "model_id": "648a46fd8b2544508d60826ce5c3e55b",
       "version_major": 2,
       "version_minor": 0
      },
      "text/plain": [
       "HBox(children=(IntProgress(value=0, max=7298), HTML(value='')))"
      ]
     },
     "metadata": {},
     "output_type": "display_data"
    }
   ],
   "source": [
    "tqdm.pandas()\n",
    "df_market['match_d'] = df_market['model_m'].progress_apply(lambda x: match(str(x), df_dev['model_d']))\n",
    "df_market_top = df_market_top[['class_m', 'ven_m', 'model_m', 'match']]"
   ]
  },
  {
   "cell_type": "markdown",
   "metadata": {},
   "source": [
    "Выводим случайный сэмпл:"
   ]
  },
  {
   "cell_type": "code",
   "execution_count": 513,
   "metadata": {},
   "outputs": [
    {
     "data": {
      "text/html": [
       "<div>\n",
       "<style scoped>\n",
       "    .dataframe tbody tr th:only-of-type {\n",
       "        vertical-align: middle;\n",
       "    }\n",
       "\n",
       "    .dataframe tbody tr th {\n",
       "        vertical-align: top;\n",
       "    }\n",
       "\n",
       "    .dataframe thead th {\n",
       "        text-align: right;\n",
       "    }\n",
       "</style>\n",
       "<table border=\"1\" class=\"dataframe\">\n",
       "  <thead>\n",
       "    <tr style=\"text-align: right;\">\n",
       "      <th></th>\n",
       "      <th>class_m</th>\n",
       "      <th>ven_m</th>\n",
       "      <th>model_m</th>\n",
       "      <th>match</th>\n",
       "    </tr>\n",
       "  </thead>\n",
       "  <tbody>\n",
       "    <tr>\n",
       "      <th>6484</th>\n",
       "      <td>видеорегистраторы</td>\n",
       "      <td>street storm</td>\n",
       "      <td>c a7810</td>\n",
       "      <td>None</td>\n",
       "    </tr>\n",
       "    <tr>\n",
       "      <th>1767</th>\n",
       "      <td>видеорегистраторы</td>\n",
       "      <td>cansonic</td>\n",
       "      <td>707 duo</td>\n",
       "      <td>None</td>\n",
       "    </tr>\n",
       "    <tr>\n",
       "      <th>3170</th>\n",
       "      <td>телевизоры</td>\n",
       "      <td>lg</td>\n",
       "      <td>49um7450</td>\n",
       "      <td>None</td>\n",
       "    </tr>\n",
       "    <tr>\n",
       "      <th>587</th>\n",
       "      <td>телевизоры</td>\n",
       "      <td>samsung</td>\n",
       "      <td>ue40h6200</td>\n",
       "      <td>None</td>\n",
       "    </tr>\n",
       "    <tr>\n",
       "      <th>5330</th>\n",
       "      <td>gps навигаторы</td>\n",
       "      <td>ibox</td>\n",
       "      <td>pro 7500 hd</td>\n",
       "      <td>None</td>\n",
       "    </tr>\n",
       "    <tr>\n",
       "      <th>1123</th>\n",
       "      <td>радиотелефоны</td>\n",
       "      <td>gigaset</td>\n",
       "      <td>e310</td>\n",
       "      <td>None</td>\n",
       "    </tr>\n",
       "    <tr>\n",
       "      <th>3023</th>\n",
       "      <td>планшеты</td>\n",
       "      <td>asus</td>\n",
       "      <td>tab note 8 m80ta 64gb</td>\n",
       "      <td>None</td>\n",
       "    </tr>\n",
       "    <tr>\n",
       "      <th>7019</th>\n",
       "      <td>телевизоры</td>\n",
       "      <td>mystery</td>\n",
       "      <td>mtv 3223lt2</td>\n",
       "      <td>None</td>\n",
       "    </tr>\n",
       "    <tr>\n",
       "      <th>2084</th>\n",
       "      <td>планшеты</td>\n",
       "      <td>samsung</td>\n",
       "      <td>galaxy view 18 4 sm t677 32gb</td>\n",
       "      <td>None</td>\n",
       "    </tr>\n",
       "    <tr>\n",
       "      <th>5807</th>\n",
       "      <td>автомагнитолы</td>\n",
       "      <td>pioneer</td>\n",
       "      <td>sph da01</td>\n",
       "      <td>None</td>\n",
       "    </tr>\n",
       "  </tbody>\n",
       "</table>\n",
       "</div>"
      ],
      "text/plain": [
       "                class_m         ven_m                        model_m match\n",
       "6484  видеорегистраторы  street storm                        c a7810  None\n",
       "1767  видеорегистраторы      cansonic                        707 duo  None\n",
       "3170         телевизоры            lg                       49um7450  None\n",
       "587          телевизоры       samsung                      ue40h6200  None\n",
       "5330     gps навигаторы          ibox                    pro 7500 hd  None\n",
       "1123      радиотелефоны       gigaset                           e310  None\n",
       "3023           планшеты          asus          tab note 8 m80ta 64gb  None\n",
       "7019         телевизоры       mystery                    mtv 3223lt2  None\n",
       "2084           планшеты       samsung  galaxy view 18 4 sm t677 32gb  None\n",
       "5807      автомагнитолы       pioneer                       sph da01  None"
      ]
     },
     "execution_count": 513,
     "metadata": {},
     "output_type": "execute_result"
    }
   ],
   "source": [
    "df_market_top.sample(n=10)"
   ]
  }
 ],
 "metadata": {
  "kernelspec": {
   "display_name": "Python 3",
   "language": "python",
   "name": "python3"
  },
  "language_info": {
   "codemirror_mode": {
    "name": "ipython",
    "version": 3
   },
   "file_extension": ".py",
   "mimetype": "text/x-python",
   "name": "python",
   "nbconvert_exporter": "python",
   "pygments_lexer": "ipython3",
   "version": "3.7.3"
  }
 },
 "nbformat": 4,
 "nbformat_minor": 2
}
