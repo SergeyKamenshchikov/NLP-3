{
 "cells": [
  {
   "cell_type": "code",
   "execution_count": 1,
   "metadata": {},
   "outputs": [],
   "source": [
    "import pandas as pd\n",
    "import numpy as np\n",
    "import io\n",
    "import os\n",
    "import re\n",
    "import string\n",
    "import pymorphy2\n",
    "from collections import OrderedDict\n",
    "from nltk.stem.snowball import SnowballStemmer\n",
    "from stop_words import get_stop_words\n",
    "from tqdm import tqdm_notebook as tqdm\n",
    "import matplotlib.pyplot as plt"
   ]
  },
  {
   "cell_type": "markdown",
   "metadata": {},
   "source": [
    "Гиперпараметры:"
   ]
  },
  {
   "cell_type": "code",
   "execution_count": 2,
   "metadata": {},
   "outputs": [],
   "source": [
    "min_word_length = 2"
   ]
  },
  {
   "cell_type": "markdown",
   "metadata": {},
   "source": [
    "Читаем директорию с файлами каталога:"
   ]
  },
  {
   "cell_type": "code",
   "execution_count": 3,
   "metadata": {},
   "outputs": [],
   "source": [
    "list_of_files = os.listdir('data/top_ym/')\n",
    "files_num = len(list_of_files)"
   ]
  },
  {
   "cell_type": "markdown",
   "metadata": {},
   "source": [
    "Выбор необходимых атрибутов:"
   ]
  },
  {
   "cell_type": "code",
   "execution_count": 4,
   "metadata": {},
   "outputs": [],
   "source": [
    "market_features = ['Категория', 'Производитель', 'Название модели']"
   ]
  },
  {
   "cell_type": "markdown",
   "metadata": {},
   "source": [
    "Читаем файлы с необходимыми атрибутами в один фрейм:"
   ]
  },
  {
   "cell_type": "code",
   "execution_count": 5,
   "metadata": {},
   "outputs": [
    {
     "data": {
      "application/vnd.jupyter.widget-view+json": {
       "model_id": "7b9d211fec7a470f87bf2059831a1487",
       "version_major": 2,
       "version_minor": 0
      },
      "text/plain": [
       "HBox(children=(IntProgress(value=0, max=313), HTML(value='')))"
      ]
     },
     "metadata": {},
     "output_type": "display_data"
    },
    {
     "name": "stdout",
     "output_type": "stream",
     "text": [
      "\n"
     ]
    }
   ],
   "source": [
    "df = pd.DataFrame()\n",
    "\n",
    "for item in tqdm(list_of_files):\n",
    "    df_file = pd.read_csv(('data/top_ym/' + str(item)), delimiter=';', encoding='windows-1251', usecols=market_features)\n",
    "    df = pd.concat([df, df_file], axis=0)"
   ]
  },
  {
   "cell_type": "markdown",
   "metadata": {},
   "source": [
    "Записываем фрейм в csv:"
   ]
  },
  {
   "cell_type": "code",
   "execution_count": 6,
   "metadata": {},
   "outputs": [],
   "source": [
    "df.to_csv('data/market_dirty.csv', index=False)"
   ]
  },
  {
   "cell_type": "markdown",
   "metadata": {},
   "source": [
    "Переименовываем столбцы:"
   ]
  },
  {
   "cell_type": "code",
   "execution_count": 7,
   "metadata": {},
   "outputs": [],
   "source": [
    "df = df.rename(columns={'Категория': 'class_m', 'Производитель': 'ven_m', 'Название модели': 'model_m'})"
   ]
  },
  {
   "cell_type": "markdown",
   "metadata": {},
   "source": [
    "Число записей до очистки:"
   ]
  },
  {
   "cell_type": "code",
   "execution_count": 8,
   "metadata": {},
   "outputs": [
    {
     "name": "stdout",
     "output_type": "stream",
     "text": [
      "Число записей: 3421187\n"
     ]
    }
   ],
   "source": [
    "dim_before = int(df.shape[0])\n",
    "print('Число записей:', int(df.shape[0]))"
   ]
  },
  {
   "cell_type": "markdown",
   "metadata": {},
   "source": [
    "Статистики по распределению числа слов в наименовании модели:"
   ]
  },
  {
   "cell_type": "code",
   "execution_count": 9,
   "metadata": {},
   "outputs": [
    {
     "name": "stdout",
     "output_type": "stream",
     "text": [
      "Среднее число слов в моделе: 3\n",
      "Стандарт числа слов в моделе: 3\n"
     ]
    }
   ],
   "source": [
    "print('Среднее число слов в моделе:', round(df['model_m'].str.split().apply(len).mean()))\n",
    "print('Стандарт числа слов в моделе:', round(df['model_m'].str.split().apply(len).std()))"
   ]
  },
  {
   "cell_type": "markdown",
   "metadata": {},
   "source": [
    "Показываем пропуски в относительных долях:"
   ]
  },
  {
   "cell_type": "code",
   "execution_count": 10,
   "metadata": {},
   "outputs": [
    {
     "name": "stdout",
     "output_type": "stream",
     "text": [
      "Число нулей для всех признаков: {'class_m': 0.0, 'ven_m': 0.0, 'model_m': 0.0}\n"
     ]
    }
   ],
   "source": [
    "print('Число нулей для всех признаков:', dict(round(df.isnull().sum()/len(df), 2)))"
   ]
  },
  {
   "cell_type": "markdown",
   "metadata": {},
   "source": [
    "Показываем пропуски в абсолютных значения:"
   ]
  },
  {
   "cell_type": "code",
   "execution_count": 11,
   "metadata": {},
   "outputs": [
    {
     "name": "stdout",
     "output_type": "stream",
     "text": [
      "Число нулей для всех признаков: {'class_m': 0, 'ven_m': 0, 'model_m': 0}\n"
     ]
    }
   ],
   "source": [
    "print('Число нулей для всех признаков:', dict(df.isnull().sum()))"
   ]
  },
  {
   "cell_type": "markdown",
   "metadata": {},
   "source": [
    "Сброс записей с пропущенными значениями:"
   ]
  },
  {
   "cell_type": "code",
   "execution_count": 12,
   "metadata": {},
   "outputs": [],
   "source": [
    "df.dropna(how='any', axis=0, inplace=True)"
   ]
  },
  {
   "cell_type": "markdown",
   "metadata": {},
   "source": [
    "Удаление пунктуации из строковых атрибутов:"
   ]
  },
  {
   "cell_type": "code",
   "execution_count": 13,
   "metadata": {
    "scrolled": true
   },
   "outputs": [
    {
     "data": {
      "application/vnd.jupyter.widget-view+json": {
       "model_id": "699c084393594b0593fb1cf8afc0d1dc",
       "version_major": 2,
       "version_minor": 0
      },
      "text/plain": [
       "HBox(children=(IntProgress(value=0, max=32), HTML(value='')))"
      ]
     },
     "metadata": {},
     "output_type": "display_data"
    },
    {
     "name": "stdout",
     "output_type": "stream",
     "text": [
      "\n"
     ]
    }
   ],
   "source": [
    "for item in tqdm(list(string.punctuation)):\n",
    "    df[['class_m', 'model_m']] = df[['class_m', 'model_m']].applymap(lambda x: x.replace(item, ' '))"
   ]
  },
  {
   "cell_type": "markdown",
   "metadata": {},
   "source": [
    "Убираем множественные пробелы и приводим к нижнему регистру:"
   ]
  },
  {
   "cell_type": "code",
   "execution_count": 14,
   "metadata": {},
   "outputs": [],
   "source": [
    "df = df.applymap(lambda x: re.sub(' +', ' ', x) if isinstance(x, str) else x)\n",
    "df = df.applymap(lambda x: x.strip().lower() if isinstance(x, str) else x)"
   ]
  },
  {
   "cell_type": "markdown",
   "metadata": {},
   "source": [
    "Сброс дубликатов по вектору категория-производитель-модель:"
   ]
  },
  {
   "cell_type": "code",
   "execution_count": 15,
   "metadata": {},
   "outputs": [],
   "source": [
    "df.drop_duplicates(inplace=True, keep='first', subset=['class_m', 'ven_m', 'model_m'])"
   ]
  },
  {
   "cell_type": "markdown",
   "metadata": {},
   "source": [
    "Преобразование типов к строке:"
   ]
  },
  {
   "cell_type": "code",
   "execution_count": 16,
   "metadata": {},
   "outputs": [],
   "source": [
    "df = df.astype({'class_m': 'str', 'ven_m': 'str', 'model_m': 'str'})"
   ]
  },
  {
   "cell_type": "markdown",
   "metadata": {},
   "source": [
    "Выводим число нулей:"
   ]
  },
  {
   "cell_type": "code",
   "execution_count": 17,
   "metadata": {},
   "outputs": [
    {
     "name": "stdout",
     "output_type": "stream",
     "text": [
      "Число нулей для всех признаков: {'class_m': 0, 'ven_m': 0, 'model_m': 0}\n"
     ]
    }
   ],
   "source": [
    "print('Число нулей для всех признаков:', dict(df.isnull().sum()))"
   ]
  },
  {
   "cell_type": "markdown",
   "metadata": {},
   "source": [
    "Удаляем дублирующиеся слова в названии модели:"
   ]
  },
  {
   "cell_type": "code",
   "execution_count": 18,
   "metadata": {},
   "outputs": [],
   "source": [
    "df['model_m'] = df['model_m'].apply(lambda x: ' '.join(OrderedDict.fromkeys(x.split())))"
   ]
  },
  {
   "cell_type": "markdown",
   "metadata": {},
   "source": [
    "Удаляем производителей из названий модели:"
   ]
  },
  {
   "cell_type": "code",
   "execution_count": 19,
   "metadata": {},
   "outputs": [
    {
     "data": {
      "application/vnd.jupyter.widget-view+json": {
       "model_id": "ec6c9ab017e94d6fae58fbe2e34b8b38",
       "version_major": 2,
       "version_minor": 0
      },
      "text/plain": [
       "HBox(children=(IntProgress(value=0, max=1649), HTML(value='')))"
      ]
     },
     "metadata": {},
     "output_type": "display_data"
    },
    {
     "name": "stdout",
     "output_type": "stream",
     "text": [
      "\n"
     ]
    }
   ],
   "source": [
    "for item in tqdm(list(set(df['ven_m']))):\n",
    "    df['model_m'] = df['model_m'].apply(lambda x: x.replace(item, ''))"
   ]
  },
  {
   "cell_type": "markdown",
   "metadata": {},
   "source": [
    "Составляем список стоп слов русского словаря с отсечкой по длине: "
   ]
  },
  {
   "cell_type": "code",
   "execution_count": 20,
   "metadata": {},
   "outputs": [],
   "source": [
    "stop_words_ru = [item for item in get_stop_words('russian') if len(item) > min_word_length]"
   ]
  },
  {
   "cell_type": "markdown",
   "metadata": {},
   "source": [
    "Удаляем стоп слова в названии модели:"
   ]
  },
  {
   "cell_type": "code",
   "execution_count": 21,
   "metadata": {},
   "outputs": [
    {
     "data": {
      "application/vnd.jupyter.widget-view+json": {
       "model_id": "37ed97c8b5d14fafb8dbb10dd2784761",
       "version_major": 2,
       "version_minor": 0
      },
      "text/plain": [
       "HBox(children=(IntProgress(value=0, max=375), HTML(value='')))"
      ]
     },
     "metadata": {},
     "output_type": "display_data"
    },
    {
     "name": "stdout",
     "output_type": "stream",
     "text": [
      "\n"
     ]
    }
   ],
   "source": [
    "for stop in tqdm(stop_words_ru):\n",
    "    remove_stops = (lambda x: ' '.join([item for item in x.split() if item != stop]))\n",
    "    df['model_m'] = df['model_m'].apply(remove_stops)"
   ]
  },
  {
   "cell_type": "markdown",
   "metadata": {},
   "source": [
    "Создаем вектор ключевых слов по названиям категорий:"
   ]
  },
  {
   "cell_type": "code",
   "execution_count": 22,
   "metadata": {},
   "outputs": [],
   "source": [
    "keys = list(\" \".join(list(set(df['class_m']))).split())\n",
    "keys = [x for x in keys if len(x) > min_word_length]"
   ]
  },
  {
   "cell_type": "markdown",
   "metadata": {},
   "source": [
    "Вызываем классы для очистки и стемминга:"
   ]
  },
  {
   "cell_type": "code",
   "execution_count": 23,
   "metadata": {},
   "outputs": [],
   "source": [
    "morph = pymorphy2.MorphAnalyzer()\n",
    "stemmer = SnowballStemmer(\"russian\")"
   ]
  },
  {
   "cell_type": "markdown",
   "metadata": {},
   "source": [
    "Выделяем парадигмы ключевых слов:"
   ]
  },
  {
   "cell_type": "code",
   "execution_count": 24,
   "metadata": {},
   "outputs": [],
   "source": [
    "keys = [morph.parse(item)[0].normal_form for item in keys]\n",
    "keys = [stemmer.stem(item) for item in keys]"
   ]
  },
  {
   "cell_type": "markdown",
   "metadata": {},
   "source": [
    "Оставляем слова в наименованиях модели, которые не содержат парадигмы: "
   ]
  },
  {
   "cell_type": "code",
   "execution_count": 25,
   "metadata": {},
   "outputs": [
    {
     "data": {
      "application/vnd.jupyter.widget-view+json": {
       "model_id": "0c5b24692657411a9d201ac361dc52a7",
       "version_major": 2,
       "version_minor": 0
      },
      "text/plain": [
       "HBox(children=(IntProgress(value=0, max=150), HTML(value='')))"
      ]
     },
     "metadata": {},
     "output_type": "display_data"
    },
    {
     "name": "stdout",
     "output_type": "stream",
     "text": [
      "\n"
     ]
    }
   ],
   "source": [
    "for key in tqdm(keys): \n",
    "    remove_keys = (lambda x: ' '.join([item for item in x.split() if (key not in item)]))\n",
    "    df['model_m'] = df['model_m'].apply(remove_keys)"
   ]
  },
  {
   "cell_type": "markdown",
   "metadata": {},
   "source": [
    "Оставляем только слова, которые отсутствуют в русском словаре Corpora:"
   ]
  },
  {
   "cell_type": "code",
   "execution_count": 26,
   "metadata": {},
   "outputs": [],
   "source": [
    "remove_not_nouns = (lambda x: ' '.join([item for item in x.split() if morph.parse(item)[0].tag.POS is None]))\n",
    "df['model_m'] = df['model_m'].apply(remove_not_nouns)"
   ]
  },
  {
   "cell_type": "markdown",
   "metadata": {},
   "source": [
    "Удаляем характеристику объема памяти 'число + GB': она не влияет на tac номер:"
   ]
  },
  {
   "cell_type": "code",
   "execution_count": 27,
   "metadata": {},
   "outputs": [],
   "source": [
    "df['model_m'] = df['model_m'].apply(lambda x: re.sub(r'\\d+gb', '', x))"
   ]
  },
  {
   "cell_type": "markdown",
   "metadata": {},
   "source": [
    "Отделяем цифры от не цифр:"
   ]
  },
  {
   "cell_type": "code",
   "execution_count": 28,
   "metadata": {},
   "outputs": [],
   "source": [
    "df['model_m'] = df['model_m'].apply(lambda x: re.sub(r'(\\D)(\\d)', r'\\1 \\2', x))\n",
    "df['model_m'] = df['model_m'].apply(lambda x: re.sub(r'(\\d)(\\D)', r'\\1 \\2', x))"
   ]
  },
  {
   "cell_type": "markdown",
   "metadata": {},
   "source": [
    "Удаляем записи с пропущенными значениями:"
   ]
  },
  {
   "cell_type": "code",
   "execution_count": 29,
   "metadata": {},
   "outputs": [],
   "source": [
    "df = df.apply(lambda x: x.str.strip() if isinstance(x, str) else x).replace('', np.nan)\n",
    "df = df.dropna(how='any', axis=0)"
   ]
  },
  {
   "cell_type": "markdown",
   "metadata": {},
   "source": [
    "Сброс дубликатов:"
   ]
  },
  {
   "cell_type": "code",
   "execution_count": 30,
   "metadata": {},
   "outputs": [],
   "source": [
    "df.drop_duplicates(inplace=True, keep='first', subset=['class_m', 'ven_m', 'model_m'])"
   ]
  },
  {
   "cell_type": "markdown",
   "metadata": {},
   "source": [
    "Статистики по распределению числа слов в наименовании модели:"
   ]
  },
  {
   "cell_type": "code",
   "execution_count": 31,
   "metadata": {},
   "outputs": [
    {
     "name": "stdout",
     "output_type": "stream",
     "text": [
      "Среднее число слов в моделе: 5\n",
      "Стандарт числа слов в моделе: 5\n"
     ]
    }
   ],
   "source": [
    "print('Среднее число слов в моделе:', round(df['model_m'].str.split().apply(len).mean()))\n",
    "print('Стандарт числа слов в моделе:', round(df['model_m'].str.split().apply(len).std()))"
   ]
  },
  {
   "cell_type": "markdown",
   "metadata": {},
   "source": [
    "Число записей:"
   ]
  },
  {
   "cell_type": "code",
   "execution_count": 32,
   "metadata": {},
   "outputs": [
    {
     "name": "stdout",
     "output_type": "stream",
     "text": [
      "Число записей: 37041\n"
     ]
    }
   ],
   "source": [
    "dim_after = int(df.shape[0])\n",
    "print('Число записей:', int(df.shape[0]))"
   ]
  },
  {
   "cell_type": "markdown",
   "metadata": {},
   "source": [
    "Компрессия по числу записей:"
   ]
  },
  {
   "cell_type": "code",
   "execution_count": 33,
   "metadata": {},
   "outputs": [
    {
     "name": "stdout",
     "output_type": "stream",
     "text": [
      "Компрессия по числу записей: 92\n"
     ]
    }
   ],
   "source": [
    "print('Компрессия по числу записей:', round(dim_before/dim_after))"
   ]
  },
  {
   "cell_type": "markdown",
   "metadata": {},
   "source": [
    "Описание фрейма:"
   ]
  },
  {
   "cell_type": "code",
   "execution_count": 34,
   "metadata": {},
   "outputs": [
    {
     "data": {
      "text/html": [
       "<div>\n",
       "<style scoped>\n",
       "    .dataframe tbody tr th:only-of-type {\n",
       "        vertical-align: middle;\n",
       "    }\n",
       "\n",
       "    .dataframe tbody tr th {\n",
       "        vertical-align: top;\n",
       "    }\n",
       "\n",
       "    .dataframe thead th {\n",
       "        text-align: right;\n",
       "    }\n",
       "</style>\n",
       "<table border=\"1\" class=\"dataframe\">\n",
       "  <thead>\n",
       "    <tr style=\"text-align: right;\">\n",
       "      <th></th>\n",
       "      <th>class_m</th>\n",
       "      <th>ven_m</th>\n",
       "      <th>model_m</th>\n",
       "    </tr>\n",
       "  </thead>\n",
       "  <tbody>\n",
       "    <tr>\n",
       "      <th>count</th>\n",
       "      <td>37041</td>\n",
       "      <td>37041</td>\n",
       "      <td>37041</td>\n",
       "    </tr>\n",
       "    <tr>\n",
       "      <th>unique</th>\n",
       "      <td>76</td>\n",
       "      <td>1642</td>\n",
       "      <td>36343</td>\n",
       "    </tr>\n",
       "  </tbody>\n",
       "</table>\n",
       "</div>"
      ],
      "text/plain": [
       "       class_m  ven_m model_m\n",
       "count    37041  37041   37041\n",
       "unique      76   1642   36343"
      ]
     },
     "execution_count": 34,
     "metadata": {},
     "output_type": "execute_result"
    }
   ],
   "source": [
    "df.describe()[:2][:]"
   ]
  },
  {
   "cell_type": "markdown",
   "metadata": {},
   "source": [
    "Выводим случайный сэмпл:"
   ]
  },
  {
   "cell_type": "code",
   "execution_count": 35,
   "metadata": {},
   "outputs": [
    {
     "data": {
      "text/html": [
       "<div>\n",
       "<style scoped>\n",
       "    .dataframe tbody tr th:only-of-type {\n",
       "        vertical-align: middle;\n",
       "    }\n",
       "\n",
       "    .dataframe tbody tr th {\n",
       "        vertical-align: top;\n",
       "    }\n",
       "\n",
       "    .dataframe thead th {\n",
       "        text-align: right;\n",
       "    }\n",
       "</style>\n",
       "<table border=\"1\" class=\"dataframe\">\n",
       "  <thead>\n",
       "    <tr style=\"text-align: right;\">\n",
       "      <th></th>\n",
       "      <th>class_m</th>\n",
       "      <th>ven_m</th>\n",
       "      <th>model_m</th>\n",
       "    </tr>\n",
       "  </thead>\n",
       "  <tbody>\n",
       "    <tr>\n",
       "      <th>566</th>\n",
       "      <td>радар детекторы</td>\n",
       "      <td>inspector</td>\n",
       "      <td>rd s 1</td>\n",
       "    </tr>\n",
       "    <tr>\n",
       "      <th>7175</th>\n",
       "      <td>принтеры и мфу</td>\n",
       "      <td>canon</td>\n",
       "      <td>ierunner  2530 i</td>\n",
       "    </tr>\n",
       "    <tr>\n",
       "      <th>8946</th>\n",
       "      <td>электронные книги</td>\n",
       "      <td>digma</td>\n",
       "      <td>e 6</td>\n",
       "    </tr>\n",
       "    <tr>\n",
       "      <th>12700</th>\n",
       "      <td>моноблоки</td>\n",
       "      <td>hp</td>\n",
       "      <td>23   8   24  f 0042 ur  4 gt 06 ea</td>\n",
       "    </tr>\n",
       "    <tr>\n",
       "      <th>162</th>\n",
       "      <td>автомагнитолы</td>\n",
       "      <td>swat</td>\n",
       "      <td>mex  1027 ubw</td>\n",
       "    </tr>\n",
       "    <tr>\n",
       "      <th>1193</th>\n",
       "      <td>радиоприемники</td>\n",
       "      <td>vitek</td>\n",
       "      <td>wx  4052</td>\n",
       "    </tr>\n",
       "    <tr>\n",
       "      <th>7539</th>\n",
       "      <td>комплекты акустики</td>\n",
       "      <td>harman/kardon</td>\n",
       "      <td>sb 30</td>\n",
       "    </tr>\n",
       "    <tr>\n",
       "      <th>6425</th>\n",
       "      <td>мобильные телефоны</td>\n",
       "      <td>alcatel</td>\n",
       "      <td>one touch  2012 d</td>\n",
       "    </tr>\n",
       "    <tr>\n",
       "      <th>2726</th>\n",
       "      <td>сумки чехлы для фото и видеотехники</td>\n",
       "      <td>baohwa</td>\n",
       "      <td>6085</td>\n",
       "    </tr>\n",
       "    <tr>\n",
       "      <th>8281</th>\n",
       "      <td>электронные книги</td>\n",
       "      <td>qumo</td>\n",
       "      <td>libro classic</td>\n",
       "    </tr>\n",
       "  </tbody>\n",
       "</table>\n",
       "</div>"
      ],
      "text/plain": [
       "                                   class_m          ven_m  \\\n",
       "566                        радар детекторы      inspector   \n",
       "7175                        принтеры и мфу          canon   \n",
       "8946                     электронные книги          digma   \n",
       "12700                            моноблоки             hp   \n",
       "162                          автомагнитолы           swat   \n",
       "1193                        радиоприемники          vitek   \n",
       "7539                    комплекты акустики  harman/kardon   \n",
       "6425                    мобильные телефоны        alcatel   \n",
       "2726   сумки чехлы для фото и видеотехники         baohwa   \n",
       "8281                     электронные книги           qumo   \n",
       "\n",
       "                                  model_m  \n",
       "566                                rd s 1  \n",
       "7175                     ierunner  2530 i  \n",
       "8946                                  e 6  \n",
       "12700  23   8   24  f 0042 ur  4 gt 06 ea  \n",
       "162                         mex  1027 ubw  \n",
       "1193                             wx  4052  \n",
       "7539                                sb 30  \n",
       "6425                    one touch  2012 d  \n",
       "2726                                 6085  \n",
       "8281                        libro classic  "
      ]
     },
     "execution_count": 35,
     "metadata": {},
     "output_type": "execute_result"
    }
   ],
   "source": [
    "df.sample(n=10)"
   ]
  },
  {
   "cell_type": "markdown",
   "metadata": {},
   "source": [
    "Записываем csv в директорию:"
   ]
  },
  {
   "cell_type": "code",
   "execution_count": 36,
   "metadata": {},
   "outputs": [],
   "source": [
    "df.to_csv('data/market_clean.csv', index=False)"
   ]
  }
 ],
 "metadata": {
  "kernelspec": {
   "display_name": "Python 3",
   "language": "python",
   "name": "python3"
  },
  "language_info": {
   "codemirror_mode": {
    "name": "ipython",
    "version": 3
   },
   "file_extension": ".py",
   "mimetype": "text/x-python",
   "name": "python",
   "nbconvert_exporter": "python",
   "pygments_lexer": "ipython3",
   "version": "3.7.3"
  }
 },
 "nbformat": 4,
 "nbformat_minor": 2
}
