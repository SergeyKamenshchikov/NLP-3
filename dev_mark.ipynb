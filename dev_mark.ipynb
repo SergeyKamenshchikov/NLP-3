{
 "cells": [
  {
   "cell_type": "code",
   "execution_count": 1,
   "metadata": {
    "ExecuteTime": {
     "end_time": "2019-11-12T12:49:14.763477Z",
     "start_time": "2019-11-12T12:49:13.272485Z"
    }
   },
   "outputs": [],
   "source": [
    "import pandas as pd\n",
    "import numpy as np\n",
    "import math\n",
    "import re\n",
    "from tqdm import tqdm_notebook as tqdm\n",
    "from tqdm.auto import tqdm as progress\n",
    "import warnings\n",
    "from datetime import datetime\n",
    "\n",
    "import json\n",
    "\n",
    "from nltk.metrics.distance import edit_distance as ed\n",
    "from nltk.metrics.distance import jaro_winkler_similarity as jw\n",
    "from textdistance import hamming as hm\n",
    "\n",
    "from textdistance import jaccard as jc\n",
    "from textdistance import lcsstr as lcs\n",
    "\n",
    "import recordlinkage as rl"
   ]
  },
  {
   "cell_type": "markdown",
   "metadata": {},
   "source": [
    "Hyperparameters:"
   ]
  },
  {
   "cell_type": "code",
   "execution_count": 2,
   "metadata": {
    "ExecuteTime": {
     "end_time": "2019-11-12T12:49:14.768163Z",
     "start_time": "2019-11-12T12:49:14.765582Z"
    }
   },
   "outputs": [],
   "source": [
    "threshold = 0.8"
   ]
  },
  {
   "cell_type": "markdown",
   "metadata": {},
   "source": [
    "Parameters:"
   ]
  },
  {
   "cell_type": "code",
   "execution_count": 3,
   "metadata": {
    "ExecuteTime": {
     "end_time": "2019-11-12T12:49:14.772111Z",
     "start_time": "2019-11-12T12:49:14.770091Z"
    }
   },
   "outputs": [],
   "source": [
    "rem_warnings = True"
   ]
  },
  {
   "cell_type": "markdown",
   "metadata": {},
   "source": [
    "CDFs:"
   ]
  },
  {
   "cell_type": "code",
   "execution_count": 4,
   "metadata": {
    "ExecuteTime": {
     "end_time": "2019-11-12T12:49:14.781545Z",
     "start_time": "2019-11-12T12:49:14.773915Z"
    }
   },
   "outputs": [],
   "source": [
    "def match(pattern, options):\n",
    "    best_match = None\n",
    "    min_score = 0\n",
    "\n",
    "    for item in options:\n",
    "\n",
    "        (p_list, i_list) = (list(pattern.split()), list(item.split()))\n",
    "\n",
    "        max_pref = min(len(p_list), len(i_list))\n",
    "        max_len = max(len(p_list), len(i_list))\n",
    "        weight = 1/max_pref\n",
    "\n",
    "        metrics = []\n",
    "\n",
    "        metrics.append(1 - ed(p_list, i_list)/max_len)\n",
    "        metrics.append(jw(p_list, i_list, p=weight, max_l=max_pref))\n",
    "        metrics.append(1 - hm(p_list, i_list)/max_len)\n",
    "\n",
    "        metrics.append(len(lcs(p_list, i_list))/max_pref)\n",
    "        metrics.append(jc(p_list, i_list))\n",
    "\n",
    "        int_metric = np.mean(metrics)\n",
    "\n",
    "        if int_metric > min_score:\n",
    "            min_score = int_metric\n",
    "            best_match = item\n",
    "\n",
    "    return [best_match, min_score]"
   ]
  },
  {
   "cell_type": "markdown",
   "metadata": {},
   "source": [
    "Supress warnings:"
   ]
  },
  {
   "cell_type": "code",
   "execution_count": 5,
   "metadata": {
    "ExecuteTime": {
     "end_time": "2019-11-12T12:49:14.785506Z",
     "start_time": "2019-11-12T12:49:14.783157Z"
    }
   },
   "outputs": [],
   "source": [
    "if rem_warnings is True:\n",
    "    warnings.filterwarnings('ignore')"
   ]
  },
  {
   "cell_type": "markdown",
   "metadata": {},
   "source": [
    "Pandas progress:"
   ]
  },
  {
   "cell_type": "code",
   "execution_count": 6,
   "metadata": {
    "ExecuteTime": {
     "end_time": "2019-11-12T12:49:14.789288Z",
     "start_time": "2019-11-12T12:49:14.787015Z"
    }
   },
   "outputs": [],
   "source": [
    "progress.pandas()"
   ]
  },
  {
   "cell_type": "markdown",
   "metadata": {},
   "source": [
    "Read first source with distinct:"
   ]
  },
  {
   "cell_type": "code",
   "execution_count": 7,
   "metadata": {
    "ExecuteTime": {
     "end_time": "2019-11-12T12:49:14.832448Z",
     "start_time": "2019-11-12T12:49:14.790866Z"
    }
   },
   "outputs": [],
   "source": [
    "df_dev = pd.read_csv('data/devices_clean.csv').astype({'model_tac_devices': 'str'})\n",
    "df_dev.drop_duplicates(inplace=True, keep='first', subset=['model_tac_devices'])"
   ]
  },
  {
   "cell_type": "markdown",
   "metadata": {},
   "source": [
    "Define types:"
   ]
  },
  {
   "cell_type": "code",
   "execution_count": 8,
   "metadata": {
    "ExecuteTime": {
     "end_time": "2019-11-12T12:49:14.842998Z",
     "start_time": "2019-11-12T12:49:14.834870Z"
    }
   },
   "outputs": [],
   "source": [
    "type_values = {'category_devices': 'str', 'vendor_devices': 'str', 'model_tac_devices': 'int64'}\n",
    "type_values.update({'model_name_devices': 'str', 'model_name_devices_clean': 'str'})\n",
    "df_dev = df_dev.astype(type_values)"
   ]
  },
  {
   "cell_type": "markdown",
   "metadata": {},
   "source": [
    "Show header:"
   ]
  },
  {
   "cell_type": "code",
   "execution_count": 9,
   "metadata": {
    "ExecuteTime": {
     "end_time": "2019-11-12T12:49:14.859657Z",
     "start_time": "2019-11-12T12:49:14.845272Z"
    }
   },
   "outputs": [
    {
     "data": {
      "text/html": [
       "<div>\n",
       "<style scoped>\n",
       "    .dataframe tbody tr th:only-of-type {\n",
       "        vertical-align: middle;\n",
       "    }\n",
       "\n",
       "    .dataframe tbody tr th {\n",
       "        vertical-align: top;\n",
       "    }\n",
       "\n",
       "    .dataframe thead th {\n",
       "        text-align: right;\n",
       "    }\n",
       "</style>\n",
       "<table border=\"1\" class=\"dataframe\">\n",
       "  <thead>\n",
       "    <tr style=\"text-align: right;\">\n",
       "      <th></th>\n",
       "      <th>category_devices</th>\n",
       "      <th>vendor_devices</th>\n",
       "      <th>model_tac_devices</th>\n",
       "      <th>model_name_devices</th>\n",
       "      <th>model_name_devices_clean</th>\n",
       "    </tr>\n",
       "  </thead>\n",
       "  <tbody>\n",
       "  </tbody>\n",
       "</table>\n",
       "</div>"
      ],
      "text/plain": [
       "Empty DataFrame\n",
       "Columns: [category_devices, vendor_devices, model_tac_devices, model_name_devices, model_name_devices_clean]\n",
       "Index: []"
      ]
     },
     "execution_count": 9,
     "metadata": {},
     "output_type": "execute_result"
    }
   ],
   "source": [
    "df_dev.head(0)"
   ]
  },
  {
   "cell_type": "markdown",
   "metadata": {},
   "source": [
    "Read second source with distinct:"
   ]
  },
  {
   "cell_type": "code",
   "execution_count": 10,
   "metadata": {
    "ExecuteTime": {
     "end_time": "2019-11-12T12:49:15.021953Z",
     "start_time": "2019-11-12T12:49:14.861234Z"
    },
    "scrolled": true
   },
   "outputs": [],
   "source": [
    "df_market = pd.read_csv('data/market_clean.csv')\n",
    "df_market.drop_duplicates(inplace=True, keep='first', subset=['model_id_market'])"
   ]
  },
  {
   "cell_type": "markdown",
   "metadata": {},
   "source": [
    "Define types:"
   ]
  },
  {
   "cell_type": "code",
   "execution_count": 11,
   "metadata": {
    "ExecuteTime": {
     "end_time": "2019-11-12T12:49:15.039852Z",
     "start_time": "2019-11-12T12:49:15.023878Z"
    }
   },
   "outputs": [],
   "source": [
    "type_values = {'category_market': 'str', 'vendor_market': 'str', 'model_id_market': 'int64'}\n",
    "type_values.update({'model_name_market': 'str', 'model_name_market_clean': 'str', 'model_url_market': 'str'})\n",
    "df_market = df_market.astype(type_values)"
   ]
  },
  {
   "cell_type": "markdown",
   "metadata": {},
   "source": [
    "Show header:"
   ]
  },
  {
   "cell_type": "code",
   "execution_count": 12,
   "metadata": {
    "ExecuteTime": {
     "end_time": "2019-11-12T12:49:15.049170Z",
     "start_time": "2019-11-12T12:49:15.041629Z"
    }
   },
   "outputs": [
    {
     "data": {
      "text/html": [
       "<div>\n",
       "<style scoped>\n",
       "    .dataframe tbody tr th:only-of-type {\n",
       "        vertical-align: middle;\n",
       "    }\n",
       "\n",
       "    .dataframe tbody tr th {\n",
       "        vertical-align: top;\n",
       "    }\n",
       "\n",
       "    .dataframe thead th {\n",
       "        text-align: right;\n",
       "    }\n",
       "</style>\n",
       "<table border=\"1\" class=\"dataframe\">\n",
       "  <thead>\n",
       "    <tr style=\"text-align: right;\">\n",
       "      <th></th>\n",
       "      <th>category_market</th>\n",
       "      <th>vendor_market</th>\n",
       "      <th>model_name_market</th>\n",
       "      <th>model_name_market_clean</th>\n",
       "      <th>model_id_market</th>\n",
       "      <th>model_url_market</th>\n",
       "    </tr>\n",
       "  </thead>\n",
       "  <tbody>\n",
       "  </tbody>\n",
       "</table>\n",
       "</div>"
      ],
      "text/plain": [
       "Empty DataFrame\n",
       "Columns: [category_market, vendor_market, model_name_market, model_name_market_clean, model_id_market, model_url_market]\n",
       "Index: []"
      ]
     },
     "execution_count": 12,
     "metadata": {},
     "output_type": "execute_result"
    }
   ],
   "source": [
    "df_market.head(0)"
   ]
  },
  {
   "cell_type": "markdown",
   "metadata": {},
   "source": [
    "Create empty frame for matched dataframe:"
   ]
  },
  {
   "cell_type": "code",
   "execution_count": 13,
   "metadata": {
    "ExecuteTime": {
     "end_time": "2019-11-12T12:49:15.057894Z",
     "start_time": "2019-11-12T12:49:15.050779Z"
    }
   },
   "outputs": [],
   "source": [
    "cn = ['model_tac_devices', 'model_id_market', 'score', 'category_match']\n",
    "df_match = pd.DataFrame(columns=cn)\n",
    "frame_index = 0"
   ]
  },
  {
   "cell_type": "markdown",
   "metadata": {},
   "source": [
    "Record Linkage Left Join:"
   ]
  },
  {
   "cell_type": "code",
   "execution_count": 14,
   "metadata": {
    "ExecuteTime": {
     "end_time": "2019-11-12T12:58:08.683468Z",
     "start_time": "2019-11-12T12:49:15.059695Z"
    },
    "scrolled": false
   },
   "outputs": [
    {
     "data": {
      "application/vnd.jupyter.widget-view+json": {
       "model_id": "f1bccf41fe934a8798e6fb70202417f8",
       "version_major": 2,
       "version_minor": 0
      },
      "text/plain": [
       "HBox(children=(IntProgress(value=0, max=9885), HTML(value='')))"
      ]
     },
     "metadata": {},
     "output_type": "display_data"
    },
    {
     "name": "stdout",
     "output_type": "stream",
     "text": [
      "\n"
     ]
    }
   ],
   "source": [
    "for i in tqdm(df_dev.index):\n",
    "    \n",
    "    model_clean_d = df_dev['model_name_devices_clean'][i]\n",
    "    model_tac_d = df_dev['model_tac_devices'][i]\n",
    "    vendor_d = df_dev[df_dev['model_name_devices_clean'] == model_clean_d]['vendor_devices'].values[0]\n",
    "\n",
    "    vendors_m = df_market[df_market['vendor_market'] == vendor_d]\n",
    "    \n",
    "    if vendors_m.empty:\n",
    "        continue\n",
    "    else:\n",
    "        model_mark_clean, match_score = match(model_clean_d, list(vendors_m['model_name_market_clean']))\n",
    "        \n",
    "    if model_mark_clean is None:\n",
    "        continue\n",
    "        \n",
    "    if df_market[df_market['model_name_market_clean'] == model_mark_clean]['vendor_market'].values[0] != vendor_d:\n",
    "        continue\n",
    "\n",
    "    category_match_value = 1 if (match_score > threshold) else 0    \n",
    "    id_market_value = df_market[df_market['model_name_market_clean'] == model_mark_clean]['model_id_market'].values[0]\n",
    "    \n",
    "    dict_match = {'model_tac_devices': model_tac_d, 'model_id_market': id_market_value}               \n",
    "    dict_match.update({'score': match_score, 'category_match': category_match_value})\n",
    "    df_match = df_match.append(pd.DataFrame(dict_match, index=[frame_index]),  ignore_index=True) "
   ]
  },
  {
   "cell_type": "markdown",
   "metadata": {},
   "source": [
    "Format score:"
   ]
  },
  {
   "cell_type": "code",
   "execution_count": 15,
   "metadata": {
    "ExecuteTime": {
     "end_time": "2019-11-12T12:58:08.696603Z",
     "start_time": "2019-11-12T12:58:08.685680Z"
    }
   },
   "outputs": [],
   "source": [
    "df_match['score'] = df_match['score'].apply(lambda x: float('{0:.2f}'.format(x)))\n",
    "df_match = df_match.sort_values(by=['score'], ascending=False)"
   ]
  },
  {
   "cell_type": "markdown",
   "metadata": {},
   "source": [
    "Matching statistics:"
   ]
  },
  {
   "cell_type": "code",
   "execution_count": 16,
   "metadata": {
    "ExecuteTime": {
     "end_time": "2019-11-12T12:58:08.717678Z",
     "start_time": "2019-11-12T12:58:08.698078Z"
    }
   },
   "outputs": [
    {
     "name": "stdout",
     "output_type": "stream",
     "text": [
      "Number of recognized samples: 212\n",
      "Number of perfect matches: 116\n",
      "Max. number of recognized samples: 8868\n"
     ]
    }
   ],
   "source": [
    "match_min = min(len(set(df_market['model_name_market_clean'])), len(set(df_dev['model_name_devices_clean'])))\n",
    "\n",
    "print('Number of recognized samples:', round(len(df_match[df_match['category_match']==1])))\n",
    "print('Number of perfect matches:', len(df_match[df_match['score']==1]))\n",
    "print('Max. number of recognized samples:', round(match_min))"
   ]
  },
  {
   "cell_type": "markdown",
   "metadata": {},
   "source": [
    "Add market features:"
   ]
  },
  {
   "cell_type": "code",
   "execution_count": 17,
   "metadata": {
    "ExecuteTime": {
     "end_time": "2019-11-12T12:58:08.748472Z",
     "start_time": "2019-11-12T12:58:08.719218Z"
    }
   },
   "outputs": [],
   "source": [
    "df_match = pd.merge(df_match, df_market, how ='inner', on ='model_id_market')"
   ]
  },
  {
   "cell_type": "markdown",
   "metadata": {},
   "source": [
    "Left join to devices catalog:"
   ]
  },
  {
   "cell_type": "code",
   "execution_count": 18,
   "metadata": {
    "ExecuteTime": {
     "end_time": "2019-11-12T12:58:08.771075Z",
     "start_time": "2019-11-12T12:58:08.750446Z"
    }
   },
   "outputs": [],
   "source": [
    "df_match = pd.merge(df_dev, df_match, how ='left', on ='model_tac_devices')"
   ]
  },
  {
   "cell_type": "markdown",
   "metadata": {},
   "source": [
    "Add 'date' feature:"
   ]
  },
  {
   "cell_type": "code",
   "execution_count": 19,
   "metadata": {
    "ExecuteTime": {
     "end_time": "2019-11-12T12:58:08.777621Z",
     "start_time": "2019-11-12T12:58:08.773290Z"
    }
   },
   "outputs": [],
   "source": [
    "df_match['business_dt']=datetime.today().strftime('%Y-%m-%d')"
   ]
  },
  {
   "cell_type": "markdown",
   "metadata": {},
   "source": [
    "Drop features:"
   ]
  },
  {
   "cell_type": "code",
   "execution_count": 20,
   "metadata": {
    "ExecuteTime": {
     "end_time": "2019-11-12T12:58:08.785925Z",
     "start_time": "2019-11-12T12:58:08.779203Z"
    }
   },
   "outputs": [],
   "source": [
    "df_match = df_match.drop(['model_name_devices_clean', 'model_name_market_clean'], axis = 1)"
   ]
  },
  {
   "cell_type": "markdown",
   "metadata": {},
   "source": [
    "Define order:"
   ]
  },
  {
   "cell_type": "code",
   "execution_count": 21,
   "metadata": {
    "ExecuteTime": {
     "end_time": "2019-11-12T12:58:08.790353Z",
     "start_time": "2019-11-12T12:58:08.787350Z"
    }
   },
   "outputs": [],
   "source": [
    "order = ['category_devices', 'vendor_devices', 'model_tac_devices', 'model_name_devices']\n",
    "order = order + ['category_market', 'vendor_market', 'model_name_market', 'model_id_market', 'model_url_market']\n",
    "order = order + ['score', 'category_match', 'business_dt']"
   ]
  },
  {
   "cell_type": "markdown",
   "metadata": {},
   "source": [
    "Change order of features in dataframe:"
   ]
  },
  {
   "cell_type": "code",
   "execution_count": 22,
   "metadata": {
    "ExecuteTime": {
     "end_time": "2019-11-12T12:58:08.800271Z",
     "start_time": "2019-11-12T12:58:08.791809Z"
    }
   },
   "outputs": [],
   "source": [
    "df_match = df_match[order]"
   ]
  },
  {
   "cell_type": "markdown",
   "metadata": {},
   "source": [
    "Load to csv:"
   ]
  },
  {
   "cell_type": "code",
   "execution_count": 23,
   "metadata": {
    "ExecuteTime": {
     "end_time": "2019-11-12T12:58:08.872374Z",
     "start_time": "2019-11-12T12:58:08.803170Z"
    }
   },
   "outputs": [],
   "source": [
    "df_match.to_csv('data/left_join_dev_mark.csv', index=False)"
   ]
  }
 ],
 "metadata": {
  "kernelspec": {
   "display_name": "py37",
   "language": "python",
   "name": "py37"
  },
  "language_info": {
   "codemirror_mode": {
    "name": "ipython",
    "version": 3
   },
   "file_extension": ".py",
   "mimetype": "text/x-python",
   "name": "python",
   "nbconvert_exporter": "python",
   "pygments_lexer": "ipython3",
   "version": "3.7.2"
  }
 },
 "nbformat": 4,
 "nbformat_minor": 2
}
