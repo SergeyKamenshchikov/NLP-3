{
 "cells": [
  {
   "cell_type": "code",
   "execution_count": 1,
   "metadata": {
    "ExecuteTime": {
     "end_time": "2019-11-06T13:12:16.035745Z",
     "start_time": "2019-11-06T13:12:06.369607Z"
    },
    "scrolled": true
   },
   "outputs": [],
   "source": [
    "import pandas as pd\n",
    "import numpy as np\n",
    "import math\n",
    "import os\n",
    "import sys\n",
    "import random\n",
    "import string\n",
    "import re\n",
    "import nltk\n",
    "import warnings\n",
    "from tqdm import tqdm_notebook as tqdm\n",
    "from tqdm.auto import tqdm as progress\n",
    "from pandarallel import pandarallel\n",
    "from matplotlib import pyplot as plt\n",
    "from dstools.spark import init_spark2\n",
    "import psutil"
   ]
  },
  {
   "cell_type": "markdown",
   "metadata": {},
   "source": [
    "Model parameters:"
   ]
  },
  {
   "cell_type": "code",
   "execution_count": 2,
   "metadata": {
    "ExecuteTime": {
     "end_time": "2019-11-06T13:12:16.041984Z",
     "start_time": "2019-11-06T13:12:16.038716Z"
    }
   },
   "outputs": [],
   "source": [
    "tac_length = 8 \n",
    "token_min = 2\n",
    "rem_warnings = True"
   ]
  },
  {
   "cell_type": "markdown",
   "metadata": {},
   "source": [
    "Resources management:"
   ]
  },
  {
   "cell_type": "code",
   "execution_count": 3,
   "metadata": {
    "ExecuteTime": {
     "end_time": "2019-11-06T13:12:16.047120Z",
     "start_time": "2019-11-06T13:12:16.044378Z"
    }
   },
   "outputs": [],
   "source": [
    "memory_usage = 0.1\n",
    "kernels_usage = 0.1"
   ]
  },
  {
   "cell_type": "markdown",
   "metadata": {},
   "source": [
    "Rules:"
   ]
  },
  {
   "cell_type": "code",
   "execution_count": 4,
   "metadata": {
    "ExecuteTime": {
     "end_time": "2019-11-06T13:12:16.053054Z",
     "start_time": "2019-11-06T13:12:16.049573Z"
    }
   },
   "outputs": [],
   "source": [
    "remove_memory = True \n",
    "test_tac_length = True \n",
    "tac_sims_rule = True \n",
    "rem_brack_content = True \n",
    "rem_repeats = True \n",
    "seperate_digits = True \n",
    "remove_vendors = True"
   ]
  },
  {
   "cell_type": "markdown",
   "metadata": {},
   "source": [
    "Supress warnings:"
   ]
  },
  {
   "cell_type": "code",
   "execution_count": 5,
   "metadata": {
    "ExecuteTime": {
     "end_time": "2019-11-06T13:12:16.061115Z",
     "start_time": "2019-11-06T13:12:16.055001Z"
    }
   },
   "outputs": [],
   "source": [
    "if rem_warnings is True:\n",
    "    warnings.filterwarnings('ignore')"
   ]
  },
  {
   "cell_type": "markdown",
   "metadata": {},
   "source": [
    "Pandas progress:"
   ]
  },
  {
   "cell_type": "code",
   "execution_count": 6,
   "metadata": {
    "ExecuteTime": {
     "end_time": "2019-11-06T13:12:16.065962Z",
     "start_time": "2019-11-06T13:12:16.063143Z"
    }
   },
   "outputs": [],
   "source": [
    "progress.pandas()"
   ]
  },
  {
   "cell_type": "markdown",
   "metadata": {},
   "source": [
    "Remove brackets content:"
   ]
  },
  {
   "cell_type": "code",
   "execution_count": 7,
   "metadata": {
    "ExecuteTime": {
     "end_time": "2019-11-06T13:12:16.072827Z",
     "start_time": "2019-11-06T13:12:16.068039Z"
    }
   },
   "outputs": [],
   "source": [
    "def remove_brackets(item):\n",
    "    \n",
    "    result = re.search(r'\\([^)]*\\)', item)\n",
    "    p_item = item\n",
    "    \n",
    "    if result and re.search(',', str(result.group())):\n",
    "        p_item = re.sub(r'\\([^)]*\\)', '', item)\n",
    "        \n",
    "    return p_item "
   ]
  },
  {
   "cell_type": "markdown",
   "metadata": {},
   "source": [
    "Remove vendor:"
   ]
  },
  {
   "cell_type": "code",
   "execution_count": 8,
   "metadata": {
    "ExecuteTime": {
     "end_time": "2019-11-06T13:12:16.086409Z",
     "start_time": "2019-11-06T13:12:16.075394Z"
    }
   },
   "outputs": [],
   "source": [
    "def remove_vendor(x):\n",
    "    result = re.sub(r'(\\b){}(\\b)'.format(df[df['model_d_clean'] == x]['ven_d'].values[0]), '', x)\n",
    "    return result "
   ]
  },
  {
   "cell_type": "markdown",
   "metadata": {},
   "source": [
    "Remove repeating tokens:"
   ]
  },
  {
   "cell_type": "code",
   "execution_count": 9,
   "metadata": {
    "ExecuteTime": {
     "end_time": "2019-11-06T13:12:16.105965Z",
     "start_time": "2019-11-06T13:12:16.097116Z"
    }
   },
   "outputs": [],
   "source": [
    "def remove_tokens(x):\n",
    "    \n",
    "    text_list = list(x.split())\n",
    "    cleaned_list = []\n",
    "    \n",
    "    for item in text_list:\n",
    "        if len(item) >= token_min and item not in cleaned_list:\n",
    "            cleaned_list.append(item)   \n",
    "        if len(item) < token_min:\n",
    "            cleaned_list.append(item)\n",
    "\n",
    "    return(' '.join(cleaned_list))"
   ]
  },
  {
   "cell_type": "markdown",
   "metadata": {},
   "source": [
    "Read device catalog with features: 'tac', 'model_name', 'vendor_name', 'sim_count':"
   ]
  },
  {
   "cell_type": "code",
   "execution_count": 10,
   "metadata": {
    "ExecuteTime": {
     "end_time": "2019-11-06T10:41:04.985482Z",
     "start_time": "2019-11-06T10:41:02.020586Z"
    }
   },
   "outputs": [],
   "source": [
    "dev_features = ['TAC', 'MODEL_NAME', 'VENDOR_NAME', 'SIM_COUNT', 'TERMINAL_TYPE']\n",
    "df = pd.read_csv('data/devices_dirty.csv')"
   ]
  },
  {
   "cell_type": "markdown",
   "metadata": {},
   "source": [
    "Rename columns:"
   ]
  },
  {
   "cell_type": "code",
   "execution_count": 11,
   "metadata": {
    "ExecuteTime": {
     "end_time": "2019-11-06T10:41:05.404724Z",
     "start_time": "2019-11-06T10:41:04.987844Z"
    }
   },
   "outputs": [],
   "source": [
    "column_voc = {'TAC': 'tac_d', 'MODEL_NAME': 'model_d', 'VENDOR_NAME': 'ven_d', 'SIM_COUNT': 'sim_d', 'TERMINAL_TYPE': 'class_d'}\n",
    "df = df.rename(columns=column_voc)"
   ]
  },
  {
   "cell_type": "markdown",
   "metadata": {},
   "source": [
    "Change columns order:"
   ]
  },
  {
   "cell_type": "code",
   "execution_count": 12,
   "metadata": {
    "ExecuteTime": {
     "end_time": "2019-11-06T10:41:05.463089Z",
     "start_time": "2019-11-06T10:41:05.406561Z"
    },
    "scrolled": false
   },
   "outputs": [],
   "source": [
    "df = df[['class_d', 'ven_d', 'model_d', 'tac_d', 'sim_d']]"
   ]
  },
  {
   "cell_type": "markdown",
   "metadata": {},
   "source": [
    "Remove records with missed features:"
   ]
  },
  {
   "cell_type": "code",
   "execution_count": 13,
   "metadata": {
    "ExecuteTime": {
     "end_time": "2019-11-06T10:41:05.609619Z",
     "start_time": "2019-11-06T10:41:05.464865Z"
    }
   },
   "outputs": [],
   "source": [
    "df.dropna(subset=['class_d', 'ven_d', 'model_d', 'tac_d'], how='any', axis=0, inplace=True)"
   ]
  },
  {
   "cell_type": "markdown",
   "metadata": {},
   "source": [
    "Convert types:"
   ]
  },
  {
   "cell_type": "code",
   "execution_count": 14,
   "metadata": {
    "ExecuteTime": {
     "end_time": "2019-11-06T10:41:05.787186Z",
     "start_time": "2019-11-06T10:41:05.611466Z"
    }
   },
   "outputs": [],
   "source": [
    "df = df.astype({'class_d': 'str', 'ven_d': 'str', 'model_d': 'str', 'tac_d': 'str'})\n",
    "df['sim_d'] = df['sim_d'].fillna(-1).astype('int64').replace('-1', np.nan)"
   ]
  },
  {
   "cell_type": "markdown",
   "metadata": {},
   "source": [
    "Create new model feature model_d_clean:"
   ]
  },
  {
   "cell_type": "code",
   "execution_count": 15,
   "metadata": {
    "ExecuteTime": {
     "end_time": "2019-11-06T10:41:05.794075Z",
     "start_time": "2019-11-06T10:41:05.788946Z"
    }
   },
   "outputs": [],
   "source": [
    "df['model_d_clean'] = df['model_d']"
   ]
  },
  {
   "cell_type": "markdown",
   "metadata": {},
   "source": [
    "If contents of brackets of model name contain enumerations, contents is removed:"
   ]
  },
  {
   "cell_type": "code",
   "execution_count": 16,
   "metadata": {
    "ExecuteTime": {
     "end_time": "2019-11-06T10:41:06.087385Z",
     "start_time": "2019-11-06T10:41:05.795719Z"
    }
   },
   "outputs": [],
   "source": [
    "if rem_brack_content is True:\n",
    "    df['model_d_clean'] = df['model_d_clean'].apply(remove_brackets)       "
   ]
  },
  {
   "cell_type": "markdown",
   "metadata": {},
   "source": [
    "Remove punctuation from the model name:"
   ]
  },
  {
   "cell_type": "code",
   "execution_count": 17,
   "metadata": {
    "ExecuteTime": {
     "end_time": "2019-11-06T10:41:06.249485Z",
     "start_time": "2019-11-06T10:41:06.089160Z"
    }
   },
   "outputs": [],
   "source": [
    "df['model_d_clean'] = df['model_d_clean'].str.replace('[{}]'.format(string.punctuation), ' ')    "
   ]
  },
  {
   "cell_type": "markdown",
   "metadata": {},
   "source": [
    "Remove multiple spaces and reduce to lowercase:"
   ]
  },
  {
   "cell_type": "code",
   "execution_count": 18,
   "metadata": {
    "ExecuteTime": {
     "end_time": "2019-11-06T10:41:08.473078Z",
     "start_time": "2019-11-06T10:41:06.251269Z"
    }
   },
   "outputs": [],
   "source": [
    "space_remove = lambda x: re.sub(' +', ' ', x) \n",
    "lower_case = lambda x: x.strip().lower() \n",
    "\n",
    "df[['class_d', 'ven_d', 'model_d_clean', 'tac_d']] = df[['class_d', 'ven_d', 'model_d_clean', 'tac_d']].applymap(space_remove)\n",
    "df[['class_d', 'ven_d', 'model_d_clean', 'tac_d']] = df[['class_d', 'ven_d', 'model_d_clean', 'tac_d']].applymap(lower_case)"
   ]
  },
  {
   "cell_type": "markdown",
   "metadata": {},
   "source": [
    "Drop duplicates of 'ven_d', 'model_d_clean', 'tac_d' vector:"
   ]
  },
  {
   "cell_type": "code",
   "execution_count": 19,
   "metadata": {
    "ExecuteTime": {
     "end_time": "2019-11-06T10:41:08.598787Z",
     "start_time": "2019-11-06T10:41:08.475208Z"
    }
   },
   "outputs": [],
   "source": [
    "df.drop_duplicates(inplace=True, keep='first', subset=['class_d', 'ven_d', 'model_d_clean', 'tac_d'])"
   ]
  },
  {
   "cell_type": "markdown",
   "metadata": {},
   "source": [
    "Remove the memory size 'digit + GB' - do not influence tac:"
   ]
  },
  {
   "cell_type": "code",
   "execution_count": 20,
   "metadata": {
    "ExecuteTime": {
     "end_time": "2019-11-06T10:41:09.267068Z",
     "start_time": "2019-11-06T10:41:08.600649Z"
    }
   },
   "outputs": [],
   "source": [
    "if remove_memory is True:\n",
    "    df['model_d_clean'] = df['model_d_clean'].apply(lambda x: re.sub(r'\\d+gb', '', x))\n",
    "    df['model_d_clean'] = df['model_d_clean'].apply(lambda x: re.sub(r'\\d+гб', '', x))"
   ]
  },
  {
   "cell_type": "markdown",
   "metadata": {},
   "source": [
    "Separate numbers from non-numbers:"
   ]
  },
  {
   "cell_type": "code",
   "execution_count": 21,
   "metadata": {
    "ExecuteTime": {
     "end_time": "2019-11-06T10:41:10.844864Z",
     "start_time": "2019-11-06T10:41:09.269622Z"
    }
   },
   "outputs": [],
   "source": [
    "if seperate_digits is True:\n",
    "    df['model_d_clean'] = df['model_d_clean'].apply(lambda x: re.sub(r'([A-Za-zА-Яа-я])(\\d)', r'\\1 \\2', x))\n",
    "    df['model_d_clean'] = df['model_d_clean'].apply(lambda x: re.sub(r'(\\d)([A-Za-zА-Яа-я])', r'\\1 \\2', x))"
   ]
  },
  {
   "cell_type": "markdown",
   "metadata": {},
   "source": [
    "Remove vendors from model names:"
   ]
  },
  {
   "cell_type": "code",
   "execution_count": 22,
   "metadata": {
    "ExecuteTime": {
     "end_time": "2019-11-06T10:44:36.561615Z",
     "start_time": "2019-11-06T10:41:10.846846Z"
    },
    "scrolled": true
   },
   "outputs": [
    {
     "name": "stdout",
     "output_type": "stream",
     "text": [
      "WARNING: Progress bar is an experimental feature. This can lead to a considerable performance loss.\n"
     ]
    },
    {
     "data": {
      "application/vnd.jupyter.widget-view+json": {
       "model_id": "18c310b41b7546a3b307363bbf97e15a",
       "version_major": 2,
       "version_minor": 0
      },
      "text/plain": [
       "VBox(children=(HBox(children=(IntProgress(value=0, description='0.00%', max=15085), Label(value='0 / 15085')))…"
      ]
     },
     "metadata": {},
     "output_type": "display_data"
    }
   ],
   "source": [
    "workers = max(round(kernels_usage*psutil.cpu_count()), 1)\n",
    "memory = max(round(memory_usage*psutil.virtual_memory().available/(1024**2)), 2048)\n",
    "pandarallel.initialize(progress_bar=True, verbose=0, shm_size_mb=memory, nb_workers=workers)\n",
    "\n",
    "if remove_vendors is True:\n",
    "    df['model_d_clean'] = df['model_d_clean'].parallel_apply(remove_vendor) "
   ]
  },
  {
   "cell_type": "markdown",
   "metadata": {},
   "source": [
    "Remove repeating tokens:"
   ]
  },
  {
   "cell_type": "code",
   "execution_count": 23,
   "metadata": {
    "ExecuteTime": {
     "end_time": "2019-11-06T10:44:37.182228Z",
     "start_time": "2019-11-06T10:44:36.566181Z"
    }
   },
   "outputs": [
    {
     "data": {
      "application/vnd.jupyter.widget-view+json": {
       "model_id": "b47b0cd21ac641dc8e3f677cfd07763f",
       "version_major": 2,
       "version_minor": 0
      },
      "text/plain": [
       "HBox(children=(IntProgress(value=0, max=165928), HTML(value='')))"
      ]
     },
     "metadata": {},
     "output_type": "display_data"
    },
    {
     "name": "stdout",
     "output_type": "stream",
     "text": [
      "\n"
     ]
    }
   ],
   "source": [
    "if rem_repeats is True: \n",
    "    df['model_d'] = df['model_d'].progress_apply(remove_tokens)"
   ]
  },
  {
   "cell_type": "markdown",
   "metadata": {},
   "source": [
    "Leave the entries with correct tac length:"
   ]
  },
  {
   "cell_type": "code",
   "execution_count": 24,
   "metadata": {
    "ExecuteTime": {
     "end_time": "2019-11-06T10:44:37.296388Z",
     "start_time": "2019-11-06T10:44:37.185175Z"
    }
   },
   "outputs": [],
   "source": [
    "if test_tac_length is True:\n",
    "    df = df[df['tac_d'].apply(len) == tac_length]"
   ]
  },
  {
   "cell_type": "markdown",
   "metadata": {},
   "source": [
    "Create a unique attribute 'ven_model_d':"
   ]
  },
  {
   "cell_type": "code",
   "execution_count": 25,
   "metadata": {
    "ExecuteTime": {
     "end_time": "2019-11-06T10:44:37.571540Z",
     "start_time": "2019-11-06T10:44:37.298293Z"
    }
   },
   "outputs": [],
   "source": [
    "df['ven_model_d'] = df['ven_d'] + ' ' + df['model_d_clean']"
   ]
  },
  {
   "cell_type": "markdown",
   "metadata": {},
   "source": [
    "Add number of tac numbers per model to the data frame:"
   ]
  },
  {
   "cell_type": "code",
   "execution_count": 26,
   "metadata": {
    "ExecuteTime": {
     "end_time": "2019-11-06T10:44:38.106538Z",
     "start_time": "2019-11-06T10:44:37.573304Z"
    }
   },
   "outputs": [],
   "source": [
    "df_tac_num = df[['ven_model_d', 'tac_d']].groupby('ven_model_d', as_index=False).count().rename(columns={'tac_d': 'tac_num_d'})\n",
    "df = pd.merge(df, df_tac_num, on=['ven_model_d'], how='inner')\n",
    "df['tac_num_d'] = df['tac_num_d'].astype('int64')"
   ]
  },
  {
   "cell_type": "markdown",
   "metadata": {},
   "source": [
    "Rule for programming tac code: n (tacs) <= n (sims). We exclude entries that violate this rule:"
   ]
  },
  {
   "cell_type": "code",
   "execution_count": 27,
   "metadata": {
    "ExecuteTime": {
     "end_time": "2019-11-06T10:44:38.207519Z",
     "start_time": "2019-11-06T10:44:38.108417Z"
    }
   },
   "outputs": [],
   "source": [
    "if tac_sims_rule is True:\n",
    "    df = df[df['tac_num_d'] <= df['sim_d']]"
   ]
  },
  {
   "cell_type": "markdown",
   "metadata": {},
   "source": [
    "Drop duplicates:"
   ]
  },
  {
   "cell_type": "code",
   "execution_count": 28,
   "metadata": {
    "ExecuteTime": {
     "end_time": "2019-11-06T10:44:38.273316Z",
     "start_time": "2019-11-06T10:44:38.209390Z"
    }
   },
   "outputs": [],
   "source": [
    "df.drop_duplicates(inplace=True, keep='first', subset=['class_d', 'ven_d', 'model_d_clean', 'tac_d'])"
   ]
  },
  {
   "cell_type": "markdown",
   "metadata": {},
   "source": [
    "Drop auxiliary features:"
   ]
  },
  {
   "cell_type": "code",
   "execution_count": 29,
   "metadata": {
    "ExecuteTime": {
     "end_time": "2019-11-06T10:44:38.282851Z",
     "start_time": "2019-11-06T10:44:38.275654Z"
    }
   },
   "outputs": [],
   "source": [
    "df = df.drop(columns=['sim_d', 'tac_num_d', 'ven_model_d'])"
   ]
  },
  {
   "cell_type": "markdown",
   "metadata": {},
   "source": [
    "Change the order of features:"
   ]
  },
  {
   "cell_type": "code",
   "execution_count": 30,
   "metadata": {
    "ExecuteTime": {
     "end_time": "2019-11-06T10:44:38.291188Z",
     "start_time": "2019-11-06T10:44:38.285100Z"
    }
   },
   "outputs": [],
   "source": [
    "df = df[['class_d', 'ven_d', 'tac_d', 'model_d', 'model_d_clean']]"
   ]
  },
  {
   "cell_type": "markdown",
   "metadata": {},
   "source": [
    "Rename columns:"
   ]
  },
  {
   "cell_type": "code",
   "execution_count": 31,
   "metadata": {
    "ExecuteTime": {
     "end_time": "2019-11-06T10:44:38.299365Z",
     "start_time": "2019-11-06T10:44:38.293290Z"
    }
   },
   "outputs": [],
   "source": [
    "column_voc = {'tac_d': 'model_tac_devices', 'model_d': 'model_name_devices', 'model_d_clean': 'model_name_devices_clean', \\\n",
    "              'ven_d': 'vendor_devices', 'class_d': 'category_devices'}\n",
    "df = df.rename(columns=column_voc)"
   ]
  },
  {
   "cell_type": "markdown",
   "metadata": {},
   "source": [
    "Show header:"
   ]
  },
  {
   "cell_type": "code",
   "execution_count": 32,
   "metadata": {
    "ExecuteTime": {
     "end_time": "2019-11-06T10:44:38.324629Z",
     "start_time": "2019-11-06T10:44:38.301360Z"
    }
   },
   "outputs": [
    {
     "data": {
      "text/html": [
       "<div>\n",
       "<style scoped>\n",
       "    .dataframe tbody tr th:only-of-type {\n",
       "        vertical-align: middle;\n",
       "    }\n",
       "\n",
       "    .dataframe tbody tr th {\n",
       "        vertical-align: top;\n",
       "    }\n",
       "\n",
       "    .dataframe thead th {\n",
       "        text-align: right;\n",
       "    }\n",
       "</style>\n",
       "<table border=\"1\" class=\"dataframe\">\n",
       "  <thead>\n",
       "    <tr style=\"text-align: right;\">\n",
       "      <th></th>\n",
       "      <th>category_devices</th>\n",
       "      <th>vendor_devices</th>\n",
       "      <th>model_tac_devices</th>\n",
       "      <th>model_name_devices</th>\n",
       "      <th>model_name_devices_clean</th>\n",
       "    </tr>\n",
       "  </thead>\n",
       "  <tbody>\n",
       "    <tr>\n",
       "      <th>298</th>\n",
       "      <td>plain</td>\n",
       "      <td>huawei</td>\n",
       "      <td>35495401</td>\n",
       "      <td>U550</td>\n",
       "      <td>u 550</td>\n",
       "    </tr>\n",
       "    <tr>\n",
       "      <th>747</th>\n",
       "      <td>smartphone</td>\n",
       "      <td>cat</td>\n",
       "      <td>35369909</td>\n",
       "      <td>S60</td>\n",
       "      <td>s 60</td>\n",
       "    </tr>\n",
       "    <tr>\n",
       "      <th>748</th>\n",
       "      <td>smartphone</td>\n",
       "      <td>cat</td>\n",
       "      <td>35813707</td>\n",
       "      <td>S60</td>\n",
       "      <td>s 60</td>\n",
       "    </tr>\n",
       "    <tr>\n",
       "      <th>773</th>\n",
       "      <td>smartphone</td>\n",
       "      <td>zte</td>\n",
       "      <td>86433801</td>\n",
       "      <td>Grand X Quad (V987)</td>\n",
       "      <td>grand x quad v 987</td>\n",
       "    </tr>\n",
       "    <tr>\n",
       "      <th>784</th>\n",
       "      <td>smartphone</td>\n",
       "      <td>infocus</td>\n",
       "      <td>35512306</td>\n",
       "      <td>M330</td>\n",
       "      <td>m 330</td>\n",
       "    </tr>\n",
       "  </tbody>\n",
       "</table>\n",
       "</div>"
      ],
      "text/plain": [
       "    category_devices vendor_devices model_tac_devices   model_name_devices  \\\n",
       "298            plain         huawei          35495401                 U550   \n",
       "747       smartphone            cat          35369909                  S60   \n",
       "748       smartphone            cat          35813707                  S60   \n",
       "773       smartphone            zte          86433801  Grand X Quad (V987)   \n",
       "784       smartphone        infocus          35512306                 M330   \n",
       "\n",
       "    model_name_devices_clean  \n",
       "298                    u 550  \n",
       "747                     s 60  \n",
       "748                     s 60  \n",
       "773       grand x quad v 987  \n",
       "784                    m 330  "
      ]
     },
     "execution_count": 32,
     "metadata": {},
     "output_type": "execute_result"
    }
   ],
   "source": [
    "df.head()"
   ]
  },
  {
   "cell_type": "markdown",
   "metadata": {},
   "source": [
    "Show random sample:"
   ]
  },
  {
   "cell_type": "code",
   "execution_count": 33,
   "metadata": {
    "ExecuteTime": {
     "end_time": "2019-11-06T10:44:38.344592Z",
     "start_time": "2019-11-06T10:44:38.326179Z"
    }
   },
   "outputs": [
    {
     "data": {
      "text/html": [
       "<div>\n",
       "<style scoped>\n",
       "    .dataframe tbody tr th:only-of-type {\n",
       "        vertical-align: middle;\n",
       "    }\n",
       "\n",
       "    .dataframe tbody tr th {\n",
       "        vertical-align: top;\n",
       "    }\n",
       "\n",
       "    .dataframe thead th {\n",
       "        text-align: right;\n",
       "    }\n",
       "</style>\n",
       "<table border=\"1\" class=\"dataframe\">\n",
       "  <thead>\n",
       "    <tr style=\"text-align: right;\">\n",
       "      <th></th>\n",
       "      <th>category_devices</th>\n",
       "      <th>vendor_devices</th>\n",
       "      <th>model_tac_devices</th>\n",
       "      <th>model_name_devices</th>\n",
       "      <th>model_name_devices_clean</th>\n",
       "    </tr>\n",
       "  </thead>\n",
       "  <tbody>\n",
       "    <tr>\n",
       "      <th>78017</th>\n",
       "      <td>smartphone</td>\n",
       "      <td>sharp</td>\n",
       "      <td>35658405</td>\n",
       "      <td>Aquos Phone Xx (SoftBank 302SH)</td>\n",
       "      <td>aquos phone xx softbank 302 sh</td>\n",
       "    </tr>\n",
       "    <tr>\n",
       "      <th>90678</th>\n",
       "      <td>smartphone</td>\n",
       "      <td>samsung</td>\n",
       "      <td>35217106</td>\n",
       "      <td>Galaxy S5 Duos (SM-G9009D)</td>\n",
       "      <td>galaxy s 5 duos sm g 9009 d</td>\n",
       "    </tr>\n",
       "    <tr>\n",
       "      <th>99900</th>\n",
       "      <td>smartphone</td>\n",
       "      <td>blu</td>\n",
       "      <td>35293507</td>\n",
       "      <td>Life X8</td>\n",
       "      <td>life x 8</td>\n",
       "    </tr>\n",
       "    <tr>\n",
       "      <th>139035</th>\n",
       "      <td>smartphone</td>\n",
       "      <td>karbonn</td>\n",
       "      <td>91146475</td>\n",
       "      <td>A90 3G</td>\n",
       "      <td>a 90 3 g</td>\n",
       "    </tr>\n",
       "    <tr>\n",
       "      <th>73131</th>\n",
       "      <td>plain</td>\n",
       "      <td>spice</td>\n",
       "      <td>91113560</td>\n",
       "      <td>QT53</td>\n",
       "      <td>qt 53</td>\n",
       "    </tr>\n",
       "  </tbody>\n",
       "</table>\n",
       "</div>"
      ],
      "text/plain": [
       "       category_devices vendor_devices model_tac_devices  \\\n",
       "78017        smartphone          sharp          35658405   \n",
       "90678        smartphone        samsung          35217106   \n",
       "99900        smartphone            blu          35293507   \n",
       "139035       smartphone        karbonn          91146475   \n",
       "73131             plain          spice          91113560   \n",
       "\n",
       "                     model_name_devices        model_name_devices_clean  \n",
       "78017   Aquos Phone Xx (SoftBank 302SH)  aquos phone xx softbank 302 sh  \n",
       "90678        Galaxy S5 Duos (SM-G9009D)     galaxy s 5 duos sm g 9009 d  \n",
       "99900                           Life X8                        life x 8  \n",
       "139035                           A90 3G                        a 90 3 g  \n",
       "73131                              QT53                           qt 53  "
      ]
     },
     "execution_count": 33,
     "metadata": {},
     "output_type": "execute_result"
    }
   ],
   "source": [
    "df.sample(n=5)"
   ]
  },
  {
   "cell_type": "markdown",
   "metadata": {},
   "source": [
    "Load data to csv:"
   ]
  },
  {
   "cell_type": "code",
   "execution_count": 34,
   "metadata": {
    "ExecuteTime": {
     "end_time": "2019-11-06T10:44:38.387253Z",
     "start_time": "2019-11-06T10:44:38.346166Z"
    }
   },
   "outputs": [],
   "source": [
    "df.to_csv('data/devices_clean.csv', index=False)"
   ]
  }
 ],
 "metadata": {
  "kernelspec": {
   "display_name": "py37",
   "language": "python",
   "name": "py37"
  },
  "language_info": {
   "codemirror_mode": {
    "name": "ipython",
    "version": 3
   },
   "file_extension": ".py",
   "mimetype": "text/x-python",
   "name": "python",
   "nbconvert_exporter": "python",
   "pygments_lexer": "ipython3",
   "version": "3.7.2"
  }
 },
 "nbformat": 4,
 "nbformat_minor": 2
}
