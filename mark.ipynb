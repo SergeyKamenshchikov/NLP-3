{
 "cells": [
  {
   "cell_type": "code",
   "execution_count": 1,
   "metadata": {
    "ExecuteTime": {
     "end_time": "2019-11-06T09:24:21.615329Z",
     "start_time": "2019-11-06T09:24:20.256584Z"
    },
    "scrolled": true
   },
   "outputs": [],
   "source": [
    "import pandas as pd\n",
    "import numpy as np\n",
    "import io\n",
    "import os\n",
    "import re\n",
    "import string\n",
    "import warnings\n",
    "import pymorphy2\n",
    "from nltk.stem.snowball import SnowballStemmer\n",
    "from pandarallel import pandarallel\n",
    "from stop_words import get_stop_words\n",
    "from tqdm import tqdm_notebook as tqdm\n",
    "from tqdm.auto import tqdm as progress\n",
    "from matplotlib import pyplot as plt\n",
    "import psutil"
   ]
  },
  {
   "cell_type": "markdown",
   "metadata": {},
   "source": [
    "Model parameters:"
   ]
  },
  {
   "cell_type": "code",
   "execution_count": 2,
   "metadata": {
    "ExecuteTime": {
     "end_time": "2019-11-06T09:24:21.619949Z",
     "start_time": "2019-11-06T09:24:21.617591Z"
    }
   },
   "outputs": [],
   "source": [
    "token_min = 2\n",
    "rem_warnings = True"
   ]
  },
  {
   "cell_type": "markdown",
   "metadata": {},
   "source": [
    "Resources management:"
   ]
  },
  {
   "cell_type": "code",
   "execution_count": 3,
   "metadata": {
    "ExecuteTime": {
     "end_time": "2019-11-06T09:24:21.623921Z",
     "start_time": "2019-11-06T09:24:21.621835Z"
    }
   },
   "outputs": [],
   "source": [
    "memory_usage = 0.1\n",
    "kernels_usage = 0.1"
   ]
  },
  {
   "cell_type": "markdown",
   "metadata": {},
   "source": [
    "Rules:"
   ]
  },
  {
   "cell_type": "code",
   "execution_count": 4,
   "metadata": {
    "ExecuteTime": {
     "end_time": "2019-11-06T09:24:21.628275Z",
     "start_time": "2019-11-06T09:24:21.625788Z"
    }
   },
   "outputs": [],
   "source": [
    "remove_memory = True\n",
    "rem_brack_content = True \n",
    "rem_repeats = True \n",
    "seperate_digits = True \n",
    "remove_vendors = True"
   ]
  },
  {
   "cell_type": "markdown",
   "metadata": {},
   "source": [
    "Supress warning:"
   ]
  },
  {
   "cell_type": "code",
   "execution_count": 5,
   "metadata": {
    "ExecuteTime": {
     "end_time": "2019-11-06T09:24:21.632237Z",
     "start_time": "2019-11-06T09:24:21.629811Z"
    }
   },
   "outputs": [],
   "source": [
    "if rem_warnings is True:\n",
    "    warnings.filterwarnings('ignore')"
   ]
  },
  {
   "cell_type": "markdown",
   "metadata": {},
   "source": [
    "Pandas progress:"
   ]
  },
  {
   "cell_type": "code",
   "execution_count": 6,
   "metadata": {
    "ExecuteTime": {
     "end_time": "2019-11-06T09:24:21.639808Z",
     "start_time": "2019-11-06T09:24:21.633695Z"
    }
   },
   "outputs": [],
   "source": [
    "progress.pandas()"
   ]
  },
  {
   "cell_type": "markdown",
   "metadata": {},
   "source": [
    "Remove brackets content:"
   ]
  },
  {
   "cell_type": "code",
   "execution_count": 7,
   "metadata": {
    "ExecuteTime": {
     "end_time": "2019-11-06T09:24:21.644994Z",
     "start_time": "2019-11-06T09:24:21.641335Z"
    }
   },
   "outputs": [],
   "source": [
    "def remove_brackets(item):\n",
    "    \n",
    "    result = re.search(r'\\([^)]*\\)', item)\n",
    "    p_item = item\n",
    "    \n",
    "    if result and re.search(',', str(result.group())):\n",
    "        p_item = re.sub(r'\\([^)]*\\)', '', item)\n",
    "        \n",
    "    return p_item  "
   ]
  },
  {
   "cell_type": "markdown",
   "metadata": {},
   "source": [
    "Remove vendor:"
   ]
  },
  {
   "cell_type": "code",
   "execution_count": 8,
   "metadata": {
    "ExecuteTime": {
     "end_time": "2019-11-06T09:24:21.650355Z",
     "start_time": "2019-11-06T09:24:21.647298Z"
    }
   },
   "outputs": [],
   "source": [
    "def remove_vendor(x):\n",
    "    result = re.sub(r'(\\b){}(\\b)'.format(df[df['model_m_clean'] == x]['ven_m'].values[0]), '', x)\n",
    "    return result "
   ]
  },
  {
   "cell_type": "markdown",
   "metadata": {},
   "source": [
    "Remove repeating tokens:"
   ]
  },
  {
   "cell_type": "code",
   "execution_count": 9,
   "metadata": {
    "ExecuteTime": {
     "end_time": "2019-11-06T09:24:21.656628Z",
     "start_time": "2019-11-06T09:24:21.652491Z"
    }
   },
   "outputs": [],
   "source": [
    "def remove_tokens(x):\n",
    "    \n",
    "    text_list = list(x.split())\n",
    "    cleaned_list = []\n",
    "    \n",
    "    for item in text_list:\n",
    "        if len(item) >= token_min and item not in cleaned_list:\n",
    "            cleaned_list.append(item)   \n",
    "        if len(item) < token_min:\n",
    "            cleaned_list.append(item)\n",
    "\n",
    "    return(' '.join(cleaned_list))"
   ]
  },
  {
   "cell_type": "markdown",
   "metadata": {},
   "source": [
    "Read directory:"
   ]
  },
  {
   "cell_type": "code",
   "execution_count": 10,
   "metadata": {
    "ExecuteTime": {
     "end_time": "2019-11-06T09:24:21.692059Z",
     "start_time": "2019-11-06T09:24:21.658185Z"
    }
   },
   "outputs": [],
   "source": [
    "list_of_files = os.listdir('data/top_ym/')\n",
    "files_num = len(list_of_files)"
   ]
  },
  {
   "cell_type": "markdown",
   "metadata": {},
   "source": [
    "Select required attributes:"
   ]
  },
  {
   "cell_type": "code",
   "execution_count": 11,
   "metadata": {
    "ExecuteTime": {
     "end_time": "2019-11-06T09:24:21.696028Z",
     "start_time": "2019-11-06T09:24:21.693618Z"
    }
   },
   "outputs": [],
   "source": [
    "market_features = ['Категория', 'Производитель', 'Название модели', 'url']"
   ]
  },
  {
   "cell_type": "markdown",
   "metadata": {},
   "source": [
    "Compress files to the single frame:"
   ]
  },
  {
   "cell_type": "code",
   "execution_count": 12,
   "metadata": {
    "ExecuteTime": {
     "end_time": "2019-11-06T09:25:31.391551Z",
     "start_time": "2019-11-06T09:24:21.697584Z"
    },
    "scrolled": true
   },
   "outputs": [
    {
     "data": {
      "application/vnd.jupyter.widget-view+json": {
       "model_id": "1dfc1a8ba8bc45e593e2cf83e46dd639",
       "version_major": 2,
       "version_minor": 0
      },
      "text/plain": [
       "HBox(children=(IntProgress(value=0, max=313), HTML(value='')))"
      ]
     },
     "metadata": {},
     "output_type": "display_data"
    },
    {
     "name": "stdout",
     "output_type": "stream",
     "text": [
      "\n"
     ]
    }
   ],
   "source": [
    "df = pd.DataFrame()\n",
    "\n",
    "for item in tqdm(list_of_files):\n",
    "    df_file = pd.read_csv(('data/top_ym/' + str(item)), delimiter=';', encoding='windows-1251', usecols=market_features)\n",
    "    df = pd.concat([df, df_file], axis=0)"
   ]
  },
  {
   "cell_type": "markdown",
   "metadata": {},
   "source": [
    "Cut url to integer id:"
   ]
  },
  {
   "cell_type": "code",
   "execution_count": 13,
   "metadata": {
    "ExecuteTime": {
     "end_time": "2019-11-06T09:25:41.613007Z",
     "start_time": "2019-11-06T09:25:31.393813Z"
    }
   },
   "outputs": [],
   "source": [
    "df['id'] = df['url'].apply(lambda x: re.sub('\\D+', '', x)).astype('int64')"
   ]
  },
  {
   "cell_type": "markdown",
   "metadata": {},
   "source": [
    "Write to csv file:"
   ]
  },
  {
   "cell_type": "code",
   "execution_count": 14,
   "metadata": {
    "ExecuteTime": {
     "end_time": "2019-11-06T09:25:59.335067Z",
     "start_time": "2019-11-06T09:25:41.615262Z"
    }
   },
   "outputs": [],
   "source": [
    "df.to_csv('data/market_dirty.csv', index=False)"
   ]
  },
  {
   "cell_type": "markdown",
   "metadata": {},
   "source": [
    "Rename columns:"
   ]
  },
  {
   "cell_type": "code",
   "execution_count": 15,
   "metadata": {
    "ExecuteTime": {
     "end_time": "2019-11-06T09:26:00.151964Z",
     "start_time": "2019-11-06T09:25:59.337737Z"
    }
   },
   "outputs": [],
   "source": [
    "df = df.rename(columns={'Категория': 'class_m', 'Производитель': 'ven_m', 'Название модели': 'model_m'})"
   ]
  },
  {
   "cell_type": "markdown",
   "metadata": {},
   "source": [
    "Remove records with missed values:"
   ]
  },
  {
   "cell_type": "code",
   "execution_count": 16,
   "metadata": {
    "ExecuteTime": {
     "end_time": "2019-11-06T09:26:01.918253Z",
     "start_time": "2019-11-06T09:26:00.153982Z"
    }
   },
   "outputs": [],
   "source": [
    "df.dropna(how='any', axis=0, inplace=True)"
   ]
  },
  {
   "cell_type": "markdown",
   "metadata": {},
   "source": [
    "Drop duplicates by model name: "
   ]
  },
  {
   "cell_type": "code",
   "execution_count": 17,
   "metadata": {
    "ExecuteTime": {
     "end_time": "2019-11-06T09:26:02.913566Z",
     "start_time": "2019-11-06T09:26:01.920472Z"
    }
   },
   "outputs": [],
   "source": [
    "df.drop_duplicates(inplace=True, keep='first', subset=['model_m'])"
   ]
  },
  {
   "cell_type": "markdown",
   "metadata": {},
   "source": [
    "Create model_m_clean attribute:"
   ]
  },
  {
   "cell_type": "code",
   "execution_count": 18,
   "metadata": {
    "ExecuteTime": {
     "end_time": "2019-11-06T09:26:02.920924Z",
     "start_time": "2019-11-06T09:26:02.915824Z"
    },
    "scrolled": true
   },
   "outputs": [],
   "source": [
    "df['model_m_clean'] = df['model_m']"
   ]
  },
  {
   "cell_type": "markdown",
   "metadata": {},
   "source": [
    "If contents of brackets of model name contain enumerations, contents is removed:"
   ]
  },
  {
   "cell_type": "code",
   "execution_count": 19,
   "metadata": {
    "ExecuteTime": {
     "end_time": "2019-11-06T09:26:02.986461Z",
     "start_time": "2019-11-06T09:26:02.922447Z"
    }
   },
   "outputs": [],
   "source": [
    "if rem_brack_content is True:\n",
    "    df['model_m_clean'] = df['model_m_clean'].apply(remove_brackets)  "
   ]
  },
  {
   "cell_type": "markdown",
   "metadata": {},
   "source": [
    "Remove punctuation from the model name:"
   ]
  },
  {
   "cell_type": "code",
   "execution_count": 20,
   "metadata": {
    "ExecuteTime": {
     "end_time": "2019-11-06T09:26:03.049813Z",
     "start_time": "2019-11-06T09:26:02.987883Z"
    },
    "scrolled": true
   },
   "outputs": [],
   "source": [
    "df['model_m_clean'] = df['model_m_clean'].str.replace('[{}]'.format(string.punctuation), ' ')    "
   ]
  },
  {
   "cell_type": "markdown",
   "metadata": {},
   "source": [
    "Remove multiple spaces and reduce to lowercase:"
   ]
  },
  {
   "cell_type": "code",
   "execution_count": 21,
   "metadata": {
    "ExecuteTime": {
     "end_time": "2019-11-06T09:26:03.640644Z",
     "start_time": "2019-11-06T09:26:03.051324Z"
    }
   },
   "outputs": [],
   "source": [
    "df[['class_m', 'ven_m', 'model_m_clean']] = df[['class_m', 'ven_m', 'model_m_clean']].applymap(lambda x: re.sub(' +', ' ', x))\n",
    "df[['class_m', 'ven_m', 'model_m_clean']] = df[['class_m', 'ven_m', 'model_m_clean']].applymap(lambda x: x.strip().lower())"
   ]
  },
  {
   "cell_type": "markdown",
   "metadata": {},
   "source": [
    "Drop duplicates:"
   ]
  },
  {
   "cell_type": "code",
   "execution_count": 22,
   "metadata": {
    "ExecuteTime": {
     "end_time": "2019-11-06T09:26:03.702931Z",
     "start_time": "2019-11-06T09:26:03.642859Z"
    }
   },
   "outputs": [],
   "source": [
    "df.drop_duplicates(inplace=True, keep='first', subset=['ven_m', 'model_m_clean', 'class_m', 'id'])\n",
    "df.drop_duplicates(inplace=True, keep='first', subset=['model_m_clean'])"
   ]
  },
  {
   "cell_type": "markdown",
   "metadata": {},
   "source": [
    "Remove the memory size 'digit + GB' - do not influence tac:"
   ]
  },
  {
   "cell_type": "code",
   "execution_count": 23,
   "metadata": {
    "ExecuteTime": {
     "end_time": "2019-11-06T09:26:03.949011Z",
     "start_time": "2019-11-06T09:26:03.706909Z"
    }
   },
   "outputs": [],
   "source": [
    "if remove_memory is True:\n",
    "    df['model_m_clean'] = df['model_m_clean'].apply(lambda x: re.sub(r'\\d+gb', '', x))\n",
    "    df['model_m_clean'] = df['model_m_clean'].apply(lambda x: re.sub(r'\\d+гб', '', x))"
   ]
  },
  {
   "cell_type": "markdown",
   "metadata": {},
   "source": [
    "Convert types to string:"
   ]
  },
  {
   "cell_type": "code",
   "execution_count": 24,
   "metadata": {
    "ExecuteTime": {
     "end_time": "2019-11-06T09:26:03.967121Z",
     "start_time": "2019-11-06T09:26:03.950937Z"
    }
   },
   "outputs": [],
   "source": [
    "df = df.astype({'class_m': 'str', 'ven_m': 'str', 'model_m': 'str', 'model_m_clean': 'str', 'id': 'int64', 'url': 'str'})"
   ]
  },
  {
   "cell_type": "markdown",
   "metadata": {},
   "source": [
    "Separate numbers from non-numbers:"
   ]
  },
  {
   "cell_type": "code",
   "execution_count": 25,
   "metadata": {
    "ExecuteTime": {
     "end_time": "2019-11-06T09:26:04.514374Z",
     "start_time": "2019-11-06T09:26:03.968765Z"
    }
   },
   "outputs": [],
   "source": [
    "df['model_m_clean'] = df['model_m_clean'].apply(lambda x: re.sub(r'([A-Za-zА-Яа-я])(\\d)', r'\\1 \\2', x))\n",
    "df['model_m_clean'] = df['model_m_clean'].apply(lambda x: re.sub(r'(\\d)([A-Za-zА-Яа-я])', r'\\1 \\2', x))"
   ]
  },
  {
   "cell_type": "markdown",
   "metadata": {},
   "source": [
    "Remove vendors from model names:"
   ]
  },
  {
   "cell_type": "code",
   "execution_count": 26,
   "metadata": {
    "ExecuteTime": {
     "end_time": "2019-11-06T09:26:32.084873Z",
     "start_time": "2019-11-06T09:26:04.516457Z"
    }
   },
   "outputs": [
    {
     "name": "stdout",
     "output_type": "stream",
     "text": [
      "WARNING: Progress bar is an experimental feature. This can lead to a considerable performance loss.\n"
     ]
    },
    {
     "data": {
      "application/vnd.jupyter.widget-view+json": {
       "model_id": "d75c46fb127e429ea08cdf9a69b2e003",
       "version_major": 2,
       "version_minor": 0
      },
      "text/plain": [
       "VBox(children=(HBox(children=(IntProgress(value=0, description='0.00%', max=7091), Label(value='0 / 7091'))), …"
      ]
     },
     "metadata": {},
     "output_type": "display_data"
    }
   ],
   "source": [
    "workers = max(round(kernels_usage*psutil.cpu_count()), 1)\n",
    "memory = max(round(memory_usage*psutil.virtual_memory().available/(1024**2)), 2048)\n",
    "pandarallel.initialize(progress_bar=True, verbose=0, shm_size_mb=memory, nb_workers=workers)\n",
    "\n",
    "if remove_vendors is True:\n",
    "    df['model_m_clean'] = df['model_m_clean'].parallel_apply(remove_vendor)      "
   ]
  },
  {
   "cell_type": "markdown",
   "metadata": {},
   "source": [
    "Remove repeating tokens:"
   ]
  },
  {
   "cell_type": "code",
   "execution_count": 27,
   "metadata": {
    "ExecuteTime": {
     "end_time": "2019-11-06T09:26:32.343714Z",
     "start_time": "2019-11-06T09:26:32.087742Z"
    }
   },
   "outputs": [
    {
     "data": {
      "application/vnd.jupyter.widget-view+json": {
       "model_id": "81407bb25d2e4edd8e2bafb93cccb63d",
       "version_major": 2,
       "version_minor": 0
      },
      "text/plain": [
       "HBox(children=(IntProgress(value=0, max=42545), HTML(value='')))"
      ]
     },
     "metadata": {},
     "output_type": "display_data"
    },
    {
     "name": "stdout",
     "output_type": "stream",
     "text": [
      "\n"
     ]
    }
   ],
   "source": [
    "if rem_repeats is True: \n",
    "    df['model_m'] = df['model_m'].progress_apply(remove_tokens)"
   ]
  },
  {
   "cell_type": "markdown",
   "metadata": {},
   "source": [
    "Compile list of Russian stop words with length cut-off:"
   ]
  },
  {
   "cell_type": "code",
   "execution_count": 28,
   "metadata": {
    "ExecuteTime": {
     "end_time": "2019-11-06T09:26:32.352106Z",
     "start_time": "2019-11-06T09:26:32.345459Z"
    }
   },
   "outputs": [],
   "source": [
    "stop_words_ru = [item for item in get_stop_words('russian') if len(item) > token_min]"
   ]
  },
  {
   "cell_type": "markdown",
   "metadata": {},
   "source": [
    "Remove stop words in model name:"
   ]
  },
  {
   "cell_type": "code",
   "execution_count": 29,
   "metadata": {
    "ExecuteTime": {
     "end_time": "2019-11-06T09:26:59.668407Z",
     "start_time": "2019-11-06T09:26:32.353598Z"
    },
    "scrolled": true
   },
   "outputs": [
    {
     "data": {
      "application/vnd.jupyter.widget-view+json": {
       "model_id": "64e8f7db19b84151bede838554bb2852",
       "version_major": 2,
       "version_minor": 0
      },
      "text/plain": [
       "HBox(children=(IntProgress(value=0, max=375), HTML(value='')))"
      ]
     },
     "metadata": {},
     "output_type": "display_data"
    },
    {
     "name": "stdout",
     "output_type": "stream",
     "text": [
      "\n"
     ]
    }
   ],
   "source": [
    "for stop in tqdm(stop_words_ru):\n",
    "    remove_stops = (lambda x: ' '.join([item for item in x.split() if item != stop]))\n",
    "    df['model_m_clean'] = df['model_m_clean'].apply(remove_stops)"
   ]
  },
  {
   "cell_type": "markdown",
   "metadata": {},
   "source": [
    "Create vector of keywords based on classes:"
   ]
  },
  {
   "cell_type": "code",
   "execution_count": 30,
   "metadata": {
    "ExecuteTime": {
     "end_time": "2019-11-06T09:26:59.687711Z",
     "start_time": "2019-11-06T09:26:59.671047Z"
    }
   },
   "outputs": [],
   "source": [
    "keys = list(\" \".join(list(set(df['class_m']))).split())\n",
    "keys = [x for x in keys if len(x) > token_min]"
   ]
  },
  {
   "cell_type": "markdown",
   "metadata": {},
   "source": [
    "Call functions for cleaning:"
   ]
  },
  {
   "cell_type": "code",
   "execution_count": 31,
   "metadata": {
    "ExecuteTime": {
     "end_time": "2019-11-06T09:26:59.834847Z",
     "start_time": "2019-11-06T09:26:59.689533Z"
    }
   },
   "outputs": [],
   "source": [
    "morph = pymorphy2.MorphAnalyzer()\n",
    "stemmer = SnowballStemmer(\"russian\")"
   ]
  },
  {
   "cell_type": "markdown",
   "metadata": {},
   "source": [
    "Extract keywords paradigms:"
   ]
  },
  {
   "cell_type": "code",
   "execution_count": 32,
   "metadata": {
    "ExecuteTime": {
     "end_time": "2019-11-06T09:26:59.897811Z",
     "start_time": "2019-11-06T09:26:59.836849Z"
    }
   },
   "outputs": [],
   "source": [
    "keys = [morph.parse(item)[0].normal_form for item in keys]\n",
    "keys = [stemmer.stem(item) for item in keys]"
   ]
  },
  {
   "cell_type": "markdown",
   "metadata": {},
   "source": [
    "Leave words in model names that do not contain paradigms:"
   ]
  },
  {
   "cell_type": "code",
   "execution_count": 33,
   "metadata": {
    "ExecuteTime": {
     "end_time": "2019-11-06T09:27:09.274104Z",
     "start_time": "2019-11-06T09:26:59.899200Z"
    }
   },
   "outputs": [
    {
     "data": {
      "application/vnd.jupyter.widget-view+json": {
       "model_id": "59f4969863f1404e8388b7fe9d45d057",
       "version_major": 2,
       "version_minor": 0
      },
      "text/plain": [
       "HBox(children=(IntProgress(value=0, max=143), HTML(value='')))"
      ]
     },
     "metadata": {},
     "output_type": "display_data"
    },
    {
     "name": "stdout",
     "output_type": "stream",
     "text": [
      "\n"
     ]
    }
   ],
   "source": [
    "for key in tqdm(keys): \n",
    "    remove_keys = (lambda x: ' '.join([item for item in x.split() if (key not in item)]))\n",
    "    df['model_m_clean'] = df['model_m_clean'].apply(remove_keys)"
   ]
  },
  {
   "cell_type": "markdown",
   "metadata": {},
   "source": [
    "Remove remaining tokens that are not present in Russian Corpora:"
   ]
  },
  {
   "cell_type": "code",
   "execution_count": 34,
   "metadata": {
    "ExecuteTime": {
     "end_time": "2019-11-06T09:27:18.635204Z",
     "start_time": "2019-11-06T09:27:09.276175Z"
    }
   },
   "outputs": [
    {
     "data": {
      "application/vnd.jupyter.widget-view+json": {
       "model_id": "9a4b0809406b4ad5afd1594bdc3cbc2c",
       "version_major": 2,
       "version_minor": 0
      },
      "text/plain": [
       "HBox(children=(IntProgress(value=0, max=42545), HTML(value='')))"
      ]
     },
     "metadata": {},
     "output_type": "display_data"
    },
    {
     "name": "stdout",
     "output_type": "stream",
     "text": [
      "\n"
     ]
    }
   ],
   "source": [
    "morph = pymorphy2.MorphAnalyzer()\n",
    "remove_nones = (lambda x: ' '.join([item for item in x.split() if morph.parse(item)[0].tag.POS is None]))\n",
    "df['model_m_clean'] = df['model_m_clean'].progress_apply(remove_nones)"
   ]
  },
  {
   "cell_type": "markdown",
   "metadata": {},
   "source": [
    "Remove entries with missing values:"
   ]
  },
  {
   "cell_type": "code",
   "execution_count": 35,
   "metadata": {
    "ExecuteTime": {
     "end_time": "2019-11-06T09:27:18.731248Z",
     "start_time": "2019-11-06T09:27:18.637247Z"
    }
   },
   "outputs": [],
   "source": [
    "df = df.apply(lambda x: x.str.strip() if isinstance(x, str) else x).replace('', np.nan)\n",
    "df = df.dropna(how='any', axis=0)"
   ]
  },
  {
   "cell_type": "markdown",
   "metadata": {},
   "source": [
    "Drop duplicates:"
   ]
  },
  {
   "cell_type": "code",
   "execution_count": 36,
   "metadata": {
    "ExecuteTime": {
     "end_time": "2019-11-06T09:27:18.849757Z",
     "start_time": "2019-11-06T09:27:18.732954Z"
    }
   },
   "outputs": [],
   "source": [
    "df.drop_duplicates(inplace=True, keep='first', subset=['ven_m', 'model_m_clean', 'class_m', 'id'])\n",
    "df.drop_duplicates(inplace=True, keep='first', subset=['model_m_clean'])"
   ]
  },
  {
   "cell_type": "markdown",
   "metadata": {},
   "source": [
    "Change order of atributes:"
   ]
  },
  {
   "cell_type": "code",
   "execution_count": 37,
   "metadata": {
    "ExecuteTime": {
     "end_time": "2019-11-06T09:27:18.859036Z",
     "start_time": "2019-11-06T09:27:18.851402Z"
    }
   },
   "outputs": [],
   "source": [
    "df = df[['class_m', 'ven_m', 'model_m', 'model_m_clean', 'id', 'url']]"
   ]
  },
  {
   "cell_type": "markdown",
   "metadata": {},
   "source": [
    "Rename columns:"
   ]
  },
  {
   "cell_type": "code",
   "execution_count": 38,
   "metadata": {
    "ExecuteTime": {
     "end_time": "2019-11-06T09:27:18.868619Z",
     "start_time": "2019-11-06T09:27:18.860556Z"
    }
   },
   "outputs": [],
   "source": [
    "column_voc = {'model_m': 'model_name_market', 'model_m_clean': 'model_name_market_clean', 'ven_m': 'vendor_market', \\\n",
    "              'class_m': 'category_market', 'id': 'model_id_market', 'url': 'model_url_market'}\n",
    "df = df.rename(columns=column_voc)"
   ]
  },
  {
   "cell_type": "markdown",
   "metadata": {},
   "source": [
    "Show header:"
   ]
  },
  {
   "cell_type": "code",
   "execution_count": 39,
   "metadata": {
    "ExecuteTime": {
     "end_time": "2019-11-06T09:27:18.883212Z",
     "start_time": "2019-11-06T09:27:18.870092Z"
    }
   },
   "outputs": [
    {
     "data": {
      "text/html": [
       "<div>\n",
       "<style scoped>\n",
       "    .dataframe tbody tr th:only-of-type {\n",
       "        vertical-align: middle;\n",
       "    }\n",
       "\n",
       "    .dataframe tbody tr th {\n",
       "        vertical-align: top;\n",
       "    }\n",
       "\n",
       "    .dataframe thead th {\n",
       "        text-align: right;\n",
       "    }\n",
       "</style>\n",
       "<table border=\"1\" class=\"dataframe\">\n",
       "  <thead>\n",
       "    <tr style=\"text-align: right;\">\n",
       "      <th></th>\n",
       "      <th>category_market</th>\n",
       "      <th>vendor_market</th>\n",
       "      <th>model_name_market</th>\n",
       "      <th>model_name_market_clean</th>\n",
       "      <th>model_id_market</th>\n",
       "      <th>model_url_market</th>\n",
       "    </tr>\n",
       "  </thead>\n",
       "  <tbody>\n",
       "    <tr>\n",
       "      <th>0</th>\n",
       "      <td>автомагнитолы</td>\n",
       "      <td>pioneer</td>\n",
       "      <td>FH-X360UB</td>\n",
       "      <td>fh x 360 ub</td>\n",
       "      <td>10544669</td>\n",
       "      <td>https://market.yandex.ru/product/10544669</td>\n",
       "    </tr>\n",
       "    <tr>\n",
       "      <th>1</th>\n",
       "      <td>автомагнитолы</td>\n",
       "      <td>pioneer</td>\n",
       "      <td>AVH-X1600DVD</td>\n",
       "      <td>avh x 1600</td>\n",
       "      <td>10567251</td>\n",
       "      <td>https://market.yandex.ru/product/10567251</td>\n",
       "    </tr>\n",
       "    <tr>\n",
       "      <th>2</th>\n",
       "      <td>автомагнитолы</td>\n",
       "      <td>sony</td>\n",
       "      <td>DSX-A35U</td>\n",
       "      <td>dsx a 35 u</td>\n",
       "      <td>10577269</td>\n",
       "      <td>https://market.yandex.ru/product/10577269</td>\n",
       "    </tr>\n",
       "    <tr>\n",
       "      <th>3</th>\n",
       "      <td>автомагнитолы</td>\n",
       "      <td>pioneer</td>\n",
       "      <td>MVH-150UB</td>\n",
       "      <td>mvh 150 ub</td>\n",
       "      <td>8475132</td>\n",
       "      <td>https://market.yandex.ru/product/8475132</td>\n",
       "    </tr>\n",
       "    <tr>\n",
       "      <th>4</th>\n",
       "      <td>автомагнитолы</td>\n",
       "      <td>pioneer</td>\n",
       "      <td>AVH-3500DVD</td>\n",
       "      <td>avh 3500</td>\n",
       "      <td>10389517</td>\n",
       "      <td>https://market.yandex.ru/product/10389517</td>\n",
       "    </tr>\n",
       "  </tbody>\n",
       "</table>\n",
       "</div>"
      ],
      "text/plain": [
       "  category_market vendor_market model_name_market model_name_market_clean  \\\n",
       "0   автомагнитолы       pioneer         FH-X360UB             fh x 360 ub   \n",
       "1   автомагнитолы       pioneer      AVH-X1600DVD              avh x 1600   \n",
       "2   автомагнитолы          sony          DSX-A35U              dsx a 35 u   \n",
       "3   автомагнитолы       pioneer         MVH-150UB              mvh 150 ub   \n",
       "4   автомагнитолы       pioneer       AVH-3500DVD                avh 3500   \n",
       "\n",
       "   model_id_market                           model_url_market  \n",
       "0         10544669  https://market.yandex.ru/product/10544669  \n",
       "1         10567251  https://market.yandex.ru/product/10567251  \n",
       "2         10577269  https://market.yandex.ru/product/10577269  \n",
       "3          8475132   https://market.yandex.ru/product/8475132  \n",
       "4         10389517  https://market.yandex.ru/product/10389517  "
      ]
     },
     "execution_count": 39,
     "metadata": {},
     "output_type": "execute_result"
    }
   ],
   "source": [
    "df.head()"
   ]
  },
  {
   "cell_type": "markdown",
   "metadata": {},
   "source": [
    "Show random sample:"
   ]
  },
  {
   "cell_type": "code",
   "execution_count": 40,
   "metadata": {
    "ExecuteTime": {
     "end_time": "2019-11-06T09:27:18.896442Z",
     "start_time": "2019-11-06T09:27:18.884653Z"
    }
   },
   "outputs": [
    {
     "data": {
      "text/html": [
       "<div>\n",
       "<style scoped>\n",
       "    .dataframe tbody tr th:only-of-type {\n",
       "        vertical-align: middle;\n",
       "    }\n",
       "\n",
       "    .dataframe tbody tr th {\n",
       "        vertical-align: top;\n",
       "    }\n",
       "\n",
       "    .dataframe thead th {\n",
       "        text-align: right;\n",
       "    }\n",
       "</style>\n",
       "<table border=\"1\" class=\"dataframe\">\n",
       "  <thead>\n",
       "    <tr style=\"text-align: right;\">\n",
       "      <th></th>\n",
       "      <th>category_market</th>\n",
       "      <th>vendor_market</th>\n",
       "      <th>model_name_market</th>\n",
       "      <th>model_name_market_clean</th>\n",
       "      <th>model_id_market</th>\n",
       "      <th>model_url_market</th>\n",
       "    </tr>\n",
       "  </thead>\n",
       "  <tbody>\n",
       "    <tr>\n",
       "      <th>8400</th>\n",
       "      <td>стационарные медиаплееры</td>\n",
       "      <td>iconbit</td>\n",
       "      <td>XDS1003DW</td>\n",
       "      <td>xds 1003 dw</td>\n",
       "      <td>10757578</td>\n",
       "      <td>https://market.yandex.ru/product/10757578</td>\n",
       "    </tr>\n",
       "    <tr>\n",
       "      <th>5689</th>\n",
       "      <td>фотоаппараты</td>\n",
       "      <td>samsung</td>\n",
       "      <td>WB35F</td>\n",
       "      <td>wb 35 f</td>\n",
       "      <td>10667058</td>\n",
       "      <td>https://market.yandex.ru/product/10667058</td>\n",
       "    </tr>\n",
       "    <tr>\n",
       "      <th>6364</th>\n",
       "      <td>сумки и рюкзаки</td>\n",
       "      <td>port designs</td>\n",
       "      <td>Avoriaz</td>\n",
       "      <td>avoriaz</td>\n",
       "      <td>2557994</td>\n",
       "      <td>https://market.yandex.ru/product/2557994</td>\n",
       "    </tr>\n",
       "    <tr>\n",
       "      <th>3810</th>\n",
       "      <td>ноутбуки</td>\n",
       "      <td>hp</td>\n",
       "      <td>PAVILION 17-f159nr (Core i7 4510U 2000 Mhz/17....</td>\n",
       "      <td>pavilion 17 f 159 nr core i 7 4510 u 2000 mhz ...</td>\n",
       "      <td>11161356</td>\n",
       "      <td>https://market.yandex.ru/product/11161356</td>\n",
       "    </tr>\n",
       "    <tr>\n",
       "      <th>845</th>\n",
       "      <td>магнитолы</td>\n",
       "      <td>sony</td>\n",
       "      <td>Sony ZS-RS70BTB</td>\n",
       "      <td>zs rs 70 btb</td>\n",
       "      <td>10747463</td>\n",
       "      <td>https://market.yandex.ru/product/10747463</td>\n",
       "    </tr>\n",
       "  </tbody>\n",
       "</table>\n",
       "</div>"
      ],
      "text/plain": [
       "               category_market vendor_market  \\\n",
       "8400  стационарные медиаплееры       iconbit   \n",
       "5689              фотоаппараты       samsung   \n",
       "6364           сумки и рюкзаки  port designs   \n",
       "3810                  ноутбуки            hp   \n",
       "845                  магнитолы          sony   \n",
       "\n",
       "                                      model_name_market  \\\n",
       "8400                                          XDS1003DW   \n",
       "5689                                              WB35F   \n",
       "6364                                            Avoriaz   \n",
       "3810  PAVILION 17-f159nr (Core i7 4510U 2000 Mhz/17....   \n",
       "845                                     Sony ZS-RS70BTB   \n",
       "\n",
       "                                model_name_market_clean  model_id_market  \\\n",
       "8400                                        xds 1003 dw         10757578   \n",
       "5689                                            wb 35 f         10667058   \n",
       "6364                                            avoriaz          2557994   \n",
       "3810  pavilion 17 f 159 nr core i 7 4510 u 2000 mhz ...         11161356   \n",
       "845                                        zs rs 70 btb         10747463   \n",
       "\n",
       "                               model_url_market  \n",
       "8400  https://market.yandex.ru/product/10757578  \n",
       "5689  https://market.yandex.ru/product/10667058  \n",
       "6364   https://market.yandex.ru/product/2557994  \n",
       "3810  https://market.yandex.ru/product/11161356  \n",
       "845   https://market.yandex.ru/product/10747463  "
      ]
     },
     "execution_count": 40,
     "metadata": {},
     "output_type": "execute_result"
    }
   ],
   "source": [
    "df.sample(n=5)"
   ]
  },
  {
   "cell_type": "markdown",
   "metadata": {},
   "source": [
    "Load to csv:"
   ]
  },
  {
   "cell_type": "code",
   "execution_count": 41,
   "metadata": {
    "ExecuteTime": {
     "end_time": "2019-11-06T09:27:19.125406Z",
     "start_time": "2019-11-06T09:27:18.897876Z"
    }
   },
   "outputs": [],
   "source": [
    "df.to_csv('data/market_clean.csv', index=False)"
   ]
  }
 ],
 "metadata": {
  "kernelspec": {
   "display_name": "py37",
   "language": "python",
   "name": "py37"
  },
  "language_info": {
   "codemirror_mode": {
    "name": "ipython",
    "version": 3
   },
   "file_extension": ".py",
   "mimetype": "text/x-python",
   "name": "python",
   "nbconvert_exporter": "python",
   "pygments_lexer": "ipython3",
   "version": "3.7.2"
  }
 },
 "nbformat": 4,
 "nbformat_minor": 2
}
