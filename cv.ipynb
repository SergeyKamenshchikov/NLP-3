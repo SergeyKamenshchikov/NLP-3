{
 "cells": [
  {
   "cell_type": "code",
   "execution_count": 6,
   "metadata": {
    "ExecuteTime": {
     "end_time": "2019-11-06T09:24:21.615329Z",
     "start_time": "2019-11-06T09:24:20.256584Z"
    },
    "scrolled": true
   },
   "outputs": [],
   "source": [
    "import numpy as np\n",
    "import warnings\n",
    "import pandas as pd\n",
    "import math\n",
    "\n",
    "from sklearn.model_selection import train_test_split\n",
    "from sklearn.linear_model import LogisticRegression\n",
    "from sklearn.model_selection import cross_val_score\n",
    "from sklearn.model_selection import learning_curve\n",
    "from sklearn.model_selection import validation_curve\n",
    "from sklearn.model_selection import KFold\n",
    "from scipy.special import expit\n",
    "from sklearn import metrics\n",
    "\n",
    "from matplotlib import pyplot as plt\n",
    "from sklearn.metrics import roc_auc_score\n",
    "from sklearn.metrics import precision_score\n",
    "from sklearn.model_selection import ShuffleSplit\n",
    "from sklearn.utils import shuffle"
   ]
  },
  {
   "cell_type": "markdown",
   "metadata": {},
   "source": [
    "Model parameters:"
   ]
  },
  {
   "cell_type": "code",
   "execution_count": 7,
   "metadata": {
    "ExecuteTime": {
     "end_time": "2019-11-06T09:24:21.619949Z",
     "start_time": "2019-11-06T09:24:21.617591Z"
    }
   },
   "outputs": [],
   "source": [
    "seed = 5\n",
    "test_size = 0.1\n",
    "split_num = 10"
   ]
  },
  {
   "cell_type": "markdown",
   "metadata": {},
   "source": [
    "CDF:"
   ]
  },
  {
   "cell_type": "code",
   "execution_count": 8,
   "metadata": {
    "ExecuteTime": {
     "end_time": "2019-11-06T09:24:21.623921Z",
     "start_time": "2019-11-06T09:24:21.621835Z"
    }
   },
   "outputs": [],
   "source": [
    "def plot_learning_curve(est, x, y, cv=None, n=None, train_sizes=np.linspace(.1, 1.0, 300)):\n",
    "    plt.figure()\n",
    "    plt.xlabel('Training sample')\n",
    "    plt.ylabel('Precision')\n",
    "    \n",
    "    tr_sizes, tr_scores, ts_scores = learning_curve(est, x, y, cv=cv, n_jobs=n, train_sizes=train_sizes, scoring='precision')\n",
    "    train_scores_mean = np.mean(tr_scores, axis=1)\n",
    "    test_scores_mean = np.mean(ts_scores, axis=1)\n",
    "    \n",
    "    plt.plot(tr_sizes, train_scores_mean, '.-', color='r', label='training precision')\n",
    "    plt.plot(tr_sizes, test_scores_mean, '.-', color='g', label='cross-validation precision')\n",
    "    plt.legend(loc='best')\n",
    "    \n",
    "    return plt"
   ]
  },
  {
   "cell_type": "markdown",
   "metadata": {},
   "source": [
    "Supress warnings:"
   ]
  },
  {
   "cell_type": "code",
   "execution_count": 9,
   "metadata": {
    "ExecuteTime": {
     "end_time": "2019-11-06T09:24:21.628275Z",
     "start_time": "2019-11-06T09:24:21.625788Z"
    }
   },
   "outputs": [],
   "source": [
    "warnings.filterwarnings('ignore')"
   ]
  },
  {
   "cell_type": "markdown",
   "metadata": {},
   "source": [
    "Read xlsx:"
   ]
  },
  {
   "cell_type": "code",
   "execution_count": 18,
   "metadata": {},
   "outputs": [],
   "source": [
    "df = pd.read_excel('data/sample.xlsx', index_col=0)"
   ]
  },
  {
   "cell_type": "markdown",
   "metadata": {},
   "source": [
    "Shuffle sample:"
   ]
  },
  {
   "cell_type": "code",
   "execution_count": 19,
   "metadata": {
    "ExecuteTime": {
     "end_time": "2019-11-06T09:24:21.632237Z",
     "start_time": "2019-11-06T09:24:21.629811Z"
    }
   },
   "outputs": [
    {
     "data": {
      "text/html": [
       "<div>\n",
       "<style scoped>\n",
       "    .dataframe tbody tr th:only-of-type {\n",
       "        vertical-align: middle;\n",
       "    }\n",
       "\n",
       "    .dataframe tbody tr th {\n",
       "        vertical-align: top;\n",
       "    }\n",
       "\n",
       "    .dataframe thead th {\n",
       "        text-align: right;\n",
       "    }\n",
       "</style>\n",
       "<table border=\"1\" class=\"dataframe\">\n",
       "  <thead>\n",
       "    <tr style=\"text-align: right;\">\n",
       "      <th></th>\n",
       "      <th>model_name_devices</th>\n",
       "      <th>category_market</th>\n",
       "      <th>vendor_market</th>\n",
       "      <th>model_name_market</th>\n",
       "      <th>score</th>\n",
       "      <th>category_match_operator</th>\n",
       "      <th>model_match_operator</th>\n",
       "    </tr>\n",
       "  </thead>\n",
       "  <tbody>\n",
       "  </tbody>\n",
       "</table>\n",
       "</div>"
      ],
      "text/plain": [
       "Empty DataFrame\n",
       "Columns: [model_name_devices, category_market, vendor_market, model_name_market, score, category_match_operator, model_match_operator]\n",
       "Index: []"
      ]
     },
     "execution_count": 19,
     "metadata": {},
     "output_type": "execute_result"
    }
   ],
   "source": [
    "df_cv = shuffle(df).reset_index(drop=True)\n",
    "df_cv.head(0)"
   ]
  },
  {
   "cell_type": "markdown",
   "metadata": {},
   "source": [
    "Print sample size:"
   ]
  },
  {
   "cell_type": "code",
   "execution_count": 20,
   "metadata": {
    "ExecuteTime": {
     "end_time": "2019-11-06T09:24:21.639808Z",
     "start_time": "2019-11-06T09:24:21.633695Z"
    }
   },
   "outputs": [
    {
     "name": "stdout",
     "output_type": "stream",
     "text": [
      "Sample size: 1162\n"
     ]
    }
   ],
   "source": [
    "print('Sample size:', len(df_cv))"
   ]
  },
  {
   "cell_type": "markdown",
   "metadata": {},
   "source": [
    "Show score distribution:"
   ]
  },
  {
   "cell_type": "code",
   "execution_count": 21,
   "metadata": {},
   "outputs": [
    {
     "data": {
      "image/png": "[encoded data removed]",
      "text/plain": [
       "<Figure size 216x216 with 1 Axes>"
      ]
     },
     "metadata": {
      "needs_background": "light"
     },
     "output_type": "display_data"
    }
   ],
   "source": [
    "df_cv[['score']].boxplot(grid=False, figsize=(3,3))\n",
    "plt.show()"
   ]
  },
  {
   "cell_type": "markdown",
   "metadata": {},
   "source": [
    "Define array for model definition:"
   ]
  },
  {
   "cell_type": "code",
   "execution_count": 22,
   "metadata": {
    "ExecuteTime": {
     "end_time": "2019-11-06T09:24:21.644994Z",
     "start_time": "2019-11-06T09:24:21.641335Z"
    }
   },
   "outputs": [],
   "source": [
    "X = np.reshape(df_cv.values[:, 4], (len(df_cv), 1)).astype('float')\n",
    "Y = np.reshape(df_cv.values[:, 6], (len(df_cv), 1)).astype('int')"
   ]
  },
  {
   "cell_type": "markdown",
   "metadata": {},
   "source": [
    "Show metrics of model definition:"
   ]
  },
  {
   "cell_type": "code",
   "execution_count": 23,
   "metadata": {
    "ExecuteTime": {
     "end_time": "2019-11-06T09:24:21.650355Z",
     "start_time": "2019-11-06T09:24:21.647298Z"
    }
   },
   "outputs": [
    {
     "name": "stdout",
     "output_type": "stream",
     "text": [
      "CV roc_auc: 93% (1%)\n",
      "CV precision: 82% (9%)\n"
     ]
    }
   ],
   "source": [
    "model = LogisticRegression(solver='newton-cg')\n",
    "kfold = KFold(n_splits=split_num, random_state=seed)\n",
    "\n",
    "roc_auc = cross_val_score(model, X, Y, cv=kfold, scoring='roc_auc')\n",
    "precision = cross_val_score(model, X, Y, cv=kfold, scoring='precision')\n",
    "\n",
    "print('CV roc_auc: %.0f%% (%.0f%%)' % (roc_auc.mean()*100.0, roc_auc.std()*100.0))\n",
    "print('CV precision: %.0f%% (%.0f%%)' % (precision.mean()*100.0, precision.std()*100.0))"
   ]
  },
  {
   "cell_type": "markdown",
   "metadata": {},
   "source": [
    "Precision as function of score:"
   ]
  },
  {
   "cell_type": "code",
   "execution_count": 24,
   "metadata": {},
   "outputs": [
    {
     "data": {
      "image/png": "[encoded data removed]",
      "text/plain": [
       "<Figure size 432x288 with 1 Axes>"
      ]
     },
     "metadata": {
      "needs_background": "light"
     },
     "output_type": "display_data"
    }
   ],
   "source": [
    "s_list = []\n",
    "p_list = []\n",
    "\n",
    "for s in range(100):\n",
    "    s_min = 0.01*s\n",
    "    \n",
    "    true_pos = df_cv[df_cv['score'] > s_min]['model_match_operator'].sum()\n",
    "    sigma = df_cv[df_cv['score'] > s_min]['model_match_operator'].count() \n",
    "    prec = true_pos/sigma\n",
    "    \n",
    "    s_list.append(s_min)\n",
    "    p_list.append(prec)\n",
    "    \n",
    "plt.plot(s_list, p_list, '.-', color='red', linewidth=1)\n",
    "\n",
    "plt.xlabel('score(min)')\n",
    "plt.ylabel('Precision')\n",
    "\n",
    "plt.grid()\n",
    "plt.show()    "
   ]
  },
  {
   "cell_type": "markdown",
   "metadata": {},
   "source": [
    "Show log regression mapping:"
   ]
  },
  {
   "cell_type": "code",
   "execution_count": 25,
   "metadata": {
    "ExecuteTime": {
     "end_time": "2019-11-06T09:24:21.692059Z",
     "start_time": "2019-11-06T09:24:21.658185Z"
    }
   },
   "outputs": [
    {
     "data": {
      "image/png": "[encoded data removed]",
      "text/plain": [
       "<Figure size 432x360 with 1 Axes>"
      ]
     },
     "metadata": {
      "needs_background": "light"
     },
     "output_type": "display_data"
    }
   ],
   "source": [
    "X_train, X_test, Y_train, Y_test = train_test_split(X, Y, test_size=test_size)\n",
    "model = LogisticRegression(solver='newton-cg')\n",
    "model.fit(X_train, Y_train)\n",
    "\n",
    "plt.figure(1, figsize=(6, 5))\n",
    "plt.scatter(X.ravel(), Y, color='blue', zorder=10, s=8)\n",
    "X_test = np.linspace(-5, 10, 300)\n",
    "\n",
    "loss = expit(X_test * model.coef_ + model.intercept_).ravel()\n",
    "plt.plot(X_test, loss, color='red', linewidth=1)\n",
    "\n",
    "plt.ylim(-0.1, 1.1)\n",
    "plt.xlim(-0.1, 1.1)\n",
    "\n",
    "plt.xlabel('Score')\n",
    "plt.ylabel('Probability')\n",
    "\n",
    "plt.grid()\n",
    "plt.show()"
   ]
  },
  {
   "cell_type": "markdown",
   "metadata": {},
   "source": [
    "Hold-out metrics:"
   ]
  },
  {
   "cell_type": "code",
   "execution_count": 26,
   "metadata": {},
   "outputs": [
    {
     "name": "stdout",
     "output_type": "stream",
     "text": [
      "Hold-out roc_auc: 82 %\n",
      "Hold-out precision: 78 %\n"
     ]
    }
   ],
   "source": [
    "X_train, X_test, Y_train, Y_test = train_test_split(X, Y, test_size=test_size, random_state=seed)\n",
    "model = LogisticRegression(solver='newton-cg')\n",
    "model.fit(X_train, Y_train)\n",
    "predicted = model.predict(X_test)\n",
    "\n",
    "roc_auc = float(roc_auc_score(Y_test, predicted))\n",
    "precision = float(precision_score(Y_test, predicted))\n",
    "\n",
    "print('Hold-out roc_auc:', round(roc_auc*100), '%')\n",
    "print('Hold-out precision:', round(precision*100), '%')"
   ]
  },
  {
   "cell_type": "markdown",
   "metadata": {},
   "source": [
    "Learning curve:"
   ]
  },
  {
   "cell_type": "code",
   "execution_count": 27,
   "metadata": {
    "scrolled": false
   },
   "outputs": [
    {
     "data": {
      "image/png": "[encoded data removed]",
      "text/plain": [
       "<Figure size 432x288 with 1 Axes>"
      ]
     },
     "metadata": {
      "needs_background": "light"
     },
     "output_type": "display_data"
    }
   ],
   "source": [
    "model = LogisticRegression(solver='newton-cg')\n",
    "cv = ShuffleSplit(n_splits=split_num, test_size=test_size, random_state=seed)\n",
    "plot_learning_curve(model, X, Y, cv=cv, n=-1)\n",
    "plt.grid()\n",
    "plt.show()"
   ]
  },
  {
   "cell_type": "markdown",
   "metadata": {},
   "source": [
    "Scattering of LogReg parameters:"
   ]
  },
  {
   "cell_type": "code",
   "execution_count": 28,
   "metadata": {},
   "outputs": [
    {
     "name": "stdout",
     "output_type": "stream",
     "text": [
      "LogReg factor variance: 1 %\n",
      "LogReg slope variance: 1 %\n"
     ]
    }
   ],
   "source": [
    "factor = []\n",
    "slope = []\n",
    "model = LogisticRegression(solver='newton-cg')\n",
    "\n",
    "for i in range(1000): \n",
    "    X_train, X_test, Y_train, Y_test = train_test_split(X, Y, test_size=test_size)\n",
    "    model.fit(X_train, Y_train)\n",
    "    \n",
    "    factor.append(float(model.coef_))\n",
    "    slope.append(float(model.intercept_))\n",
    "    \n",
    "print('LogReg factor variance:', abs(int(round(100*np.std(factor)/np.mean(factor)))), '%')\n",
    "print('LogReg slope variance:', abs(int(round(100*np.std(slope)/np.mean(slope)))), '%')"
   ]
  }
 ],
 "metadata": {
  "kernelspec": {
   "display_name": "Python 3",
   "language": "python",
   "name": "python3"
  },
  "language_info": {
   "codemirror_mode": {
    "name": "ipython",
    "version": 3
   },
   "file_extension": ".py",
   "mimetype": "text/x-python",
   "name": "python",
   "nbconvert_exporter": "python",
   "pygments_lexer": "ipython3",
   "version": "3.7.3"
  }
 },
 "nbformat": 4,
 "nbformat_minor": 2
}
